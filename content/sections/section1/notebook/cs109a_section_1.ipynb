{
 "cells": [
  {
   "cell_type": "markdown",
   "metadata": {},
   "source": [
    "# <img style=\"float: left; padding-right: 10px; width: 45px\" src=\"https://raw.githubusercontent.com/Harvard-IACS/2018-CS109A/master/content/styles/iacs.png\"> CS109A Introduction to Data Science \n",
    "\n",
    "## Standard Section 1: Introduction to Web Scraping\n",
    "\n",
    "**Harvard University**<br/>\n",
    "**Fall 2019**<br/>\n",
    "**Instructors**: Pavlos Protopapas, Kevin Rader, and Chris Tanner<br/>\n",
    "**Section Leaders**: Marios Mattheakis, Abhimanyu (Abhi) Vasishth, Robbert (Rob) Struyven<br/>\n",
    "\n",
    "\n",
    "\n",
    "<hr style='height:2px'>"
   ]
  },
  {
   "cell_type": "code",
   "execution_count": 1,
   "metadata": {},
   "outputs": [
    {
     "data": {
      "text/html": [
       "<style>\n",
       "blockquote { background: #AEDE94; }\n",
       "h1 { \n",
       "    padding-top: 25px;\n",
       "    padding-bottom: 25px;\n",
       "    text-align: left; \n",
       "    padding-left: 10px;\n",
       "    background-color: #DDDDDD; \n",
       "    color: black;\n",
       "}\n",
       "h2 { \n",
       "    padding-top: 10px;\n",
       "    padding-bottom: 10px;\n",
       "    text-align: left; \n",
       "    padding-left: 5px;\n",
       "    background-color: #EEEEEE; \n",
       "    color: black;\n",
       "}\n",
       "\n",
       "div.exercise {\n",
       "\tbackground-color: #ffcccc;\n",
       "\tborder-color: #E9967A; \t\n",
       "\tborder-left: 5px solid #800080; \n",
       "\tpadding: 0.5em;\n",
       "}\n",
       "\n",
       "div.exercise-r {\n",
       "\tbackground-color: #fce8e8;\n",
       "\tborder-color: #E9967A; \t\n",
       "\tborder-left: 5px solid #800080; \n",
       "\tpadding: 0.5em;\n",
       "}\n",
       "\n",
       "\n",
       "span.sub-q {\n",
       "\tfont-weight: bold;\n",
       "}\n",
       "div.theme {\n",
       "\tbackground-color: #DDDDDD;\n",
       "\tborder-color: #E9967A; \t\n",
       "\tborder-left: 5px solid #800080; \n",
       "\tpadding: 0.5em;\n",
       "\tfont-size: 18pt;\n",
       "}\n",
       "div.gc { \n",
       "\tbackground-color: #AEDE94;\n",
       "\tborder-color: #E9967A; \t \n",
       "\tborder-left: 5px solid #800080; \n",
       "\tpadding: 0.5em;\n",
       "\tfont-size: 12pt;\n",
       "}\n",
       "p.q1 { \n",
       "    padding-top: 5px;\n",
       "    padding-bottom: 5px;\n",
       "    text-align: left; \n",
       "    padding-left: 5px;\n",
       "    background-color: #EEEEEE; \n",
       "    color: black;\n",
       "}\n",
       "header {\n",
       "   padding-top: 35px;\n",
       "    padding-bottom: 35px;\n",
       "    text-align: left; \n",
       "    padding-left: 10px;\n",
       "    background-color: #DDDDDD; \n",
       "    color: black;\n",
       "}\n",
       "</style>\n",
       "\n"
      ],
      "text/plain": [
       "<IPython.core.display.HTML object>"
      ]
     },
     "execution_count": 1,
     "metadata": {},
     "output_type": "execute_result"
    }
   ],
   "source": [
    "## RUN THIS CELL TO GET THE RIGHT FORMATTING \n",
    "import requests\n",
    "from IPython.core.display import HTML\n",
    "styles = requests.get(\"https://raw.githubusercontent.com/Harvard-IACS/2018-CS109A/master/content/styles/cs109.css\").text\n",
    "HTML(styles)"
   ]
  },
  {
   "cell_type": "markdown",
   "metadata": {},
   "source": [
    "When we're done today, you will approach messy real-world data with confidence that you can get it into a format that you can manipulate.\n",
    "\n",
    "Specifically, our learning objectives are:\n",
    "* Understand the structure of an HTML document and use that structure to extract desired information\n",
    "* Use Python data structures such as lists, dictionaries, and Pandas DataFrames to store and manipulate information\n",
    "* Identify some other (semi-)structured formats commonly used for storing and transferring data, such as JSON and CSV\n",
    "* Practice using [Python](https://docs.python.org/3.6/) packages such as [BeautifulSoup](https://www.crummy.com/software/BeautifulSoup/bs4/doc/) and [Pandas](https://pandas.pydata.org/pandas-docs/stable/), including how to navigate their documentation to find functionality."
   ]
  },
  {
   "cell_type": "code",
   "execution_count": 2,
   "metadata": {},
   "outputs": [],
   "source": [
    "%matplotlib inline\n",
    "import numpy as np\n",
    "import matplotlib.pyplot as plt\n",
    "import pandas as pd\n",
    "import seaborn as sns\n",
    "sns.set_style(\"whitegrid\")\n",
    "sns.set_context(\"notebook\")\n",
    "import json\n",
    "\n",
    "import requests\n",
    "from bs4 import BeautifulSoup\n",
    "from IPython.display import HTML"
   ]
  },
  {
   "cell_type": "code",
   "execution_count": 3,
   "metadata": {},
   "outputs": [],
   "source": [
    "# Setting up 'requests' to make HTTPS requests properly takes some extra steps... we'll skip them for now.\n",
    "requests.packages.urllib3.disable_warnings()\n",
    "\n",
    "import warnings\n",
    "warnings.filterwarnings(\"ignore\")"
   ]
  },
  {
   "cell_type": "markdown",
   "metadata": {},
   "source": [
    "## Goals"
   ]
  },
  {
   "cell_type": "markdown",
   "metadata": {},
   "source": [
    "Is science becoming more collaborative over time? How about literature? Are there a few \"geniuses\" or lots of hard workers? One way we might answer those questions is by looking at Nobel Prizes. We could ask questions like:\n",
    "\n",
    "* Has anyone won a prize more than once?\n",
    "* How has the total number of recipients changed over time?\n",
    "* How has the number of recipients per award changed over time?\n",
    "\n",
    "\n",
    "To answer these questions, we'll need data: *who* received *what* award *when*. \n",
    "\n",
    "Before we dive into acquiring this data the way we've been teaching in class, let's pause to ask: **what are 5 different approaches we could take to acquiring Nobel Prize data**?\n",
    "\n",
    "\n",
    "\n"
   ]
  },
  {
   "cell_type": "markdown",
   "metadata": {},
   "source": [
    "## When possible: find a structured dataset (.csv,.json,.xls)\n",
    "\n",
    "After a google search we stumble upon this [dataset on github](https://github.com/OpenRefine/OpenRefine/blob/master/main/tests/data/nobel-prize-winners.csv). It is also in the section folder named `github-nobel-prize-winners.csv`.\n",
    "\n",
    "We use pandas to read it: "
   ]
  },
  {
   "cell_type": "code",
   "execution_count": 4,
   "metadata": {},
   "outputs": [
    {
     "data": {
      "text/html": [
       "<div>\n",
       "<style scoped>\n",
       "    .dataframe tbody tr th:only-of-type {\n",
       "        vertical-align: middle;\n",
       "    }\n",
       "\n",
       "    .dataframe tbody tr th {\n",
       "        vertical-align: top;\n",
       "    }\n",
       "\n",
       "    .dataframe thead th {\n",
       "        text-align: right;\n",
       "    }\n",
       "</style>\n",
       "<table border=\"1\" class=\"dataframe\">\n",
       "  <thead>\n",
       "    <tr style=\"text-align: right;\">\n",
       "      <th></th>\n",
       "      <th>year</th>\n",
       "      <th>discipline</th>\n",
       "      <th>winner</th>\n",
       "      <th>desc</th>\n",
       "    </tr>\n",
       "  </thead>\n",
       "  <tbody>\n",
       "    <tr>\n",
       "      <th>0</th>\n",
       "      <td>1901</td>\n",
       "      <td>chemistry</td>\n",
       "      <td>Jacobus H. van 't Hoff</td>\n",
       "      <td>in recognition of the extraordinary services h...</td>\n",
       "    </tr>\n",
       "    <tr>\n",
       "      <th>1</th>\n",
       "      <td>1901</td>\n",
       "      <td>literature</td>\n",
       "      <td>Sully Prudhomme</td>\n",
       "      <td>in special recognition of his poetic compositi...</td>\n",
       "    </tr>\n",
       "    <tr>\n",
       "      <th>2</th>\n",
       "      <td>1901</td>\n",
       "      <td>medicine</td>\n",
       "      <td>Emil von Behring</td>\n",
       "      <td>for his work on serum therapy, especially its ...</td>\n",
       "    </tr>\n",
       "    <tr>\n",
       "      <th>3</th>\n",
       "      <td>1901</td>\n",
       "      <td>peace</td>\n",
       "      <td>Henry Dunant</td>\n",
       "      <td>NaN</td>\n",
       "    </tr>\n",
       "    <tr>\n",
       "      <th>4</th>\n",
       "      <td>1901</td>\n",
       "      <td>peace</td>\n",
       "      <td>Fr&amp;eacute;d&amp;eacute;ric Passy</td>\n",
       "      <td>NaN</td>\n",
       "    </tr>\n",
       "  </tbody>\n",
       "</table>\n",
       "</div>"
      ],
      "text/plain": [
       "   year  discipline                        winner  \\\n",
       "0  1901   chemistry        Jacobus H. van 't Hoff   \n",
       "1  1901  literature               Sully Prudhomme   \n",
       "2  1901    medicine              Emil von Behring   \n",
       "3  1901       peace                  Henry Dunant   \n",
       "4  1901       peace  Fr&eacute;d&eacute;ric Passy   \n",
       "\n",
       "                                                desc  \n",
       "0  in recognition of the extraordinary services h...  \n",
       "1  in special recognition of his poetic compositi...  \n",
       "2  for his work on serum therapy, especially its ...  \n",
       "3                                                NaN  \n",
       "4                                                NaN  "
      ]
     },
     "execution_count": 4,
     "metadata": {},
     "output_type": "execute_result"
    }
   ],
   "source": [
    "df = pd.read_csv(\"../data/github-nobel-prize-winners.csv\")\n",
    "df.head()"
   ]
  },
  {
   "cell_type": "markdown",
   "metadata": {},
   "source": [
    "Or you may want to read an xlsx file:\n",
    "\n",
    "(Potential missing package; you might need to run the following command in your terminal first: ```!conda install xlrd```)"
   ]
  },
  {
   "cell_type": "code",
   "execution_count": 5,
   "metadata": {},
   "outputs": [
    {
     "data": {
      "text/html": [
       "<div>\n",
       "<style scoped>\n",
       "    .dataframe tbody tr th:only-of-type {\n",
       "        vertical-align: middle;\n",
       "    }\n",
       "\n",
       "    .dataframe tbody tr th {\n",
       "        vertical-align: top;\n",
       "    }\n",
       "\n",
       "    .dataframe thead th {\n",
       "        text-align: right;\n",
       "    }\n",
       "</style>\n",
       "<table border=\"1\" class=\"dataframe\">\n",
       "  <thead>\n",
       "    <tr style=\"text-align: right;\">\n",
       "      <th></th>\n",
       "      <th>year</th>\n",
       "      <th>discipline</th>\n",
       "      <th>winner</th>\n",
       "      <th>desc</th>\n",
       "    </tr>\n",
       "  </thead>\n",
       "  <tbody>\n",
       "    <tr>\n",
       "      <th>0</th>\n",
       "      <td>1901</td>\n",
       "      <td>chemistry</td>\n",
       "      <td>Jacobus H. van 't Hoff</td>\n",
       "      <td>in recognition of the extraordinary services h...</td>\n",
       "    </tr>\n",
       "    <tr>\n",
       "      <th>1</th>\n",
       "      <td>1901</td>\n",
       "      <td>literature</td>\n",
       "      <td>Sully Prudhomme</td>\n",
       "      <td>in special recognition of his poetic compositi...</td>\n",
       "    </tr>\n",
       "    <tr>\n",
       "      <th>2</th>\n",
       "      <td>1901</td>\n",
       "      <td>medicine</td>\n",
       "      <td>Emil von Behring</td>\n",
       "      <td>for his work on serum therapy, especially its ...</td>\n",
       "    </tr>\n",
       "    <tr>\n",
       "      <th>3</th>\n",
       "      <td>1901</td>\n",
       "      <td>peace</td>\n",
       "      <td>Henry Dunant</td>\n",
       "      <td>NaN</td>\n",
       "    </tr>\n",
       "    <tr>\n",
       "      <th>4</th>\n",
       "      <td>1901</td>\n",
       "      <td>peace</td>\n",
       "      <td>Fr&amp;eacute;d&amp;eacute;ric Passy</td>\n",
       "      <td>NaN</td>\n",
       "    </tr>\n",
       "  </tbody>\n",
       "</table>\n",
       "</div>"
      ],
      "text/plain": [
       "   year  discipline                        winner  \\\n",
       "0  1901   chemistry        Jacobus H. van 't Hoff   \n",
       "1  1901  literature               Sully Prudhomme   \n",
       "2  1901    medicine              Emil von Behring   \n",
       "3  1901       peace                  Henry Dunant   \n",
       "4  1901       peace  Fr&eacute;d&eacute;ric Passy   \n",
       "\n",
       "                                                desc  \n",
       "0  in recognition of the extraordinary services h...  \n",
       "1  in special recognition of his poetic compositi...  \n",
       "2  for his work on serum therapy, especially its ...  \n",
       "3                                                NaN  \n",
       "4                                                NaN  "
      ]
     },
     "execution_count": 5,
     "metadata": {},
     "output_type": "execute_result"
    }
   ],
   "source": [
    "df = pd.read_excel(\"../data/github-nobel-prize-winners.xlsx\")\n",
    "df.head()"
   ]
  },
  {
   "cell_type": "markdown",
   "metadata": {},
   "source": [
    "## QUIZ: Did anyone recieve the Nobel Prize more than once?"
   ]
  },
  {
   "cell_type": "markdown",
   "metadata": {},
   "source": [
    "**How would you check if anyone recieved more than one nobel prize?**"
   ]
  },
  {
   "cell_type": "code",
   "execution_count": 6,
   "metadata": {},
   "outputs": [
    {
     "name": "stdout",
     "output_type": "stream",
     "text": [
      "Marie Curie\n",
      "No Prize was Awarded\n",
      "No Prize was Awarded\n",
      "No Prize was Awarded\n",
      "No Prize was Awarded\n",
      "No Prize was Awarded\n",
      "No Prize was Awarded\n",
      "No Prize was Awarded\n",
      "No Prize was Awarded\n",
      "No Prize was Awarded\n",
      "No Prize was Awarded\n",
      "No Prize was Awarded\n",
      "No Prize was Awarded\n",
      "No Prize was Awarded\n",
      "No Prize was Awarded\n",
      "No Prize was Awarded\n",
      "No Prize was Awarded\n",
      "No Prize was Awarded\n",
      "No Prize was Awarded\n",
      "No Prize was Awarded\n",
      "No Prize was Awarded\n",
      "No Prize was Awarded\n",
      "No Prize was Awarded\n",
      "No Prize was Awarded\n",
      "No Prize was Awarded\n",
      "No Prize was Awarded\n",
      "No Prize was Awarded\n",
      "No Prize was Awarded\n",
      "No Prize was Awarded\n",
      "No Prize was Awarded\n",
      "No Prize was Awarded\n",
      "No Prize was Awarded\n",
      "No Prize was Awarded\n",
      "No Prize was Awarded\n",
      "No Prize was Awarded\n",
      "No Prize was Awarded\n",
      "No Prize was Awarded\n",
      "No Prize was Awarded\n",
      "No Prize was Awarded\n",
      "No Prize was Awarded\n",
      "No Prize was Awarded\n",
      "No Prize was Awarded\n",
      "No Prize was Awarded\n",
      "International Committee of the Red Cross\n",
      "No Prize was Awarded\n",
      "No Prize was Awarded\n",
      "No Prize was Awarded\n",
      "Linus Pauling\n",
      "International Committee of the Red Cross\n",
      "No Prize was Awarded\n",
      "No Prize was Awarded\n",
      "No Prize was Awarded\n",
      "John Bardeen\n",
      "Frederick Sanger\n",
      "Office of the United Nations High Commissioner for Refugees\n"
     ]
    }
   ],
   "source": [
    "# list storing all the names \n",
    "name_winners = []\n",
    "for name in df.winner:\n",
    "    # Check if we already encountered this name: \n",
    "    if name in name_winners:\n",
    "        # if so, print the name\n",
    "        print(name)\n",
    "    else:\n",
    "        # otherwhise the name to the list\n",
    "        name_winners.append(name)"
   ]
  },
  {
   "cell_type": "markdown",
   "metadata": {},
   "source": [
    "**We don't want to print \"No Prize was Awarded\" all the time.**"
   ]
  },
  {
   "cell_type": "code",
   "execution_count": 7,
   "metadata": {},
   "outputs": [],
   "source": [
    "# Your code here\n"
   ]
  },
  {
   "cell_type": "markdown",
   "metadata": {},
   "source": [
    "**How can we make this into a oneligner?**"
   ]
  },
  {
   "cell_type": "code",
   "execution_count": 8,
   "metadata": {},
   "outputs": [
    {
     "name": "stdout",
     "output_type": "stream",
     "text": [
      "Marie Curie\n",
      "International Committee of the Red Cross\n",
      "Linus Pauling\n",
      "International Committee of the Red Cross\n",
      "John Bardeen\n",
      "Frederick Sanger\n",
      "Office of the United Nations High Commissioner for Refugees\n"
     ]
    }
   ],
   "source": [
    "winners = []\n",
    "[print(name) if (name in winners and name != \"No Prize was Awarded\") \n",
    " else winners.append(name) for name in df.winner];"
   ]
  },
  {
   "cell_type": "markdown",
   "metadata": {},
   "source": [
    "## Otherwhise: WEB SCRAPING"
   ]
  },
  {
   "cell_type": "markdown",
   "metadata": {},
   "source": [
    "Turns out that https://www.nobelprize.org/prizes/lists/all-nobel-prizes/ has the data we want. \n",
    "\n",
    "Let's take a look at the [website](https://www.nobelprize.org/prizes/lists/all-nobel-prizes/) and to look at the underhood HTML: right-click and click on `inspect` . Try to find structure in the tree-structured HTML.\n",
    "\n",
    "------\n",
    "\n",
    "But the `nobelprize.org` server is a little slow sometimes. Fortunately, the Internet Archive periodically crawls most of the Internet and saves what it finds. (That's a lot of data!) So let's grab the data from the Archive's \"Wayback Machine\" (great name!).\n",
    "\n",
    "We'll just give you the direct URL, but at the very end you'll see how we can get it out of a JSON response from the Wayback Machine API."
   ]
  },
  {
   "cell_type": "code",
   "execution_count": 9,
   "metadata": {},
   "outputs": [],
   "source": [
    "snapshot_url = 'http://web.archive.org/web/20180820111639/https://www.nobelprize.org/prizes/lists/all-nobel-prizes/'"
   ]
  },
  {
   "cell_type": "code",
   "execution_count": 10,
   "metadata": {},
   "outputs": [
    {
     "data": {
      "text/plain": [
       "<Response [200]>"
      ]
     },
     "execution_count": 10,
     "metadata": {},
     "output_type": "execute_result"
    }
   ],
   "source": [
    "snapshot = requests.get(snapshot_url)\n",
    "snapshot"
   ]
  },
  {
   "cell_type": "markdown",
   "metadata": {},
   "source": [
    "What is a this Response [200]? Let's google: [`response 200 meaning`](https://www.google.com/search?q=response+200+meaning&oq=response+%5B200%5D+m&aqs=chrome.1.69i57j0l5.6184j0j7&sourceid=chrome&ie=UTF-8). All possible codes [here](https://developer.mozilla.org/en-US/docs/Web/HTTP/Status)."
   ]
  },
  {
   "cell_type": "code",
   "execution_count": 11,
   "metadata": {},
   "outputs": [
    {
     "data": {
      "text/plain": [
       "requests.models.Response"
      ]
     },
     "execution_count": 11,
     "metadata": {},
     "output_type": "execute_result"
    }
   ],
   "source": [
    "type(snapshot)"
   ]
  },
  {
   "cell_type": "markdown",
   "metadata": {},
   "source": [
    "Try to request \"www.xoogle.be\"? What happens?"
   ]
  },
  {
   "cell_type": "code",
   "execution_count": 12,
   "metadata": {
    "collapsed": true,
    "jupyter": {
     "outputs_hidden": true
    }
   },
   "outputs": [
    {
     "ename": "ConnectionError",
     "evalue": "('Connection aborted.', RemoteDisconnected('Remote end closed connection without response'))",
     "output_type": "error",
     "traceback": [
      "\u001b[1;31m---------------------------------------------------------------------------\u001b[0m",
      "\u001b[1;31mRemoteDisconnected\u001b[0m                        Traceback (most recent call last)",
      "\u001b[1;32m~\\Anaconda3\\envs\\cs109a\\lib\\site-packages\\urllib3\\connectionpool.py\u001b[0m in \u001b[0;36murlopen\u001b[1;34m(self, method, url, body, headers, retries, redirect, assert_same_host, timeout, pool_timeout, release_conn, chunked, body_pos, **response_kw)\u001b[0m\n\u001b[0;32m    599\u001b[0m                                                   \u001b[0mbody\u001b[0m\u001b[1;33m=\u001b[0m\u001b[0mbody\u001b[0m\u001b[1;33m,\u001b[0m \u001b[0mheaders\u001b[0m\u001b[1;33m=\u001b[0m\u001b[0mheaders\u001b[0m\u001b[1;33m,\u001b[0m\u001b[1;33m\u001b[0m\u001b[1;33m\u001b[0m\u001b[0m\n\u001b[1;32m--> 600\u001b[1;33m                                                   chunked=chunked)\n\u001b[0m\u001b[0;32m    601\u001b[0m \u001b[1;33m\u001b[0m\u001b[0m\n",
      "\u001b[1;32m~\\Anaconda3\\envs\\cs109a\\lib\\site-packages\\urllib3\\connectionpool.py\u001b[0m in \u001b[0;36m_make_request\u001b[1;34m(self, conn, method, url, timeout, chunked, **httplib_request_kw)\u001b[0m\n\u001b[0;32m    383\u001b[0m                     \u001b[1;31m# otherwise it looks like a programming error was the cause.\u001b[0m\u001b[1;33m\u001b[0m\u001b[1;33m\u001b[0m\u001b[1;33m\u001b[0m\u001b[0m\n\u001b[1;32m--> 384\u001b[1;33m                     \u001b[0msix\u001b[0m\u001b[1;33m.\u001b[0m\u001b[0mraise_from\u001b[0m\u001b[1;33m(\u001b[0m\u001b[0me\u001b[0m\u001b[1;33m,\u001b[0m \u001b[1;32mNone\u001b[0m\u001b[1;33m)\u001b[0m\u001b[1;33m\u001b[0m\u001b[1;33m\u001b[0m\u001b[0m\n\u001b[0m\u001b[0;32m    385\u001b[0m         \u001b[1;32mexcept\u001b[0m \u001b[1;33m(\u001b[0m\u001b[0mSocketTimeout\u001b[0m\u001b[1;33m,\u001b[0m \u001b[0mBaseSSLError\u001b[0m\u001b[1;33m,\u001b[0m \u001b[0mSocketError\u001b[0m\u001b[1;33m)\u001b[0m \u001b[1;32mas\u001b[0m \u001b[0me\u001b[0m\u001b[1;33m:\u001b[0m\u001b[1;33m\u001b[0m\u001b[1;33m\u001b[0m\u001b[0m\n",
      "\u001b[1;32m~\\Anaconda3\\envs\\cs109a\\lib\\site-packages\\urllib3\\packages\\six.py\u001b[0m in \u001b[0;36mraise_from\u001b[1;34m(value, from_value)\u001b[0m\n",
      "\u001b[1;32m~\\Anaconda3\\envs\\cs109a\\lib\\site-packages\\urllib3\\connectionpool.py\u001b[0m in \u001b[0;36m_make_request\u001b[1;34m(self, conn, method, url, timeout, chunked, **httplib_request_kw)\u001b[0m\n\u001b[0;32m    379\u001b[0m                 \u001b[1;32mtry\u001b[0m\u001b[1;33m:\u001b[0m\u001b[1;33m\u001b[0m\u001b[1;33m\u001b[0m\u001b[0m\n\u001b[1;32m--> 380\u001b[1;33m                     \u001b[0mhttplib_response\u001b[0m \u001b[1;33m=\u001b[0m \u001b[0mconn\u001b[0m\u001b[1;33m.\u001b[0m\u001b[0mgetresponse\u001b[0m\u001b[1;33m(\u001b[0m\u001b[1;33m)\u001b[0m\u001b[1;33m\u001b[0m\u001b[1;33m\u001b[0m\u001b[0m\n\u001b[0m\u001b[0;32m    381\u001b[0m                 \u001b[1;32mexcept\u001b[0m \u001b[0mException\u001b[0m \u001b[1;32mas\u001b[0m \u001b[0me\u001b[0m\u001b[1;33m:\u001b[0m\u001b[1;33m\u001b[0m\u001b[1;33m\u001b[0m\u001b[0m\n",
      "\u001b[1;32m~\\Anaconda3\\envs\\cs109a\\lib\\http\\client.py\u001b[0m in \u001b[0;36mgetresponse\u001b[1;34m(self)\u001b[0m\n\u001b[0;32m   1368\u001b[0m             \u001b[1;32mtry\u001b[0m\u001b[1;33m:\u001b[0m\u001b[1;33m\u001b[0m\u001b[1;33m\u001b[0m\u001b[0m\n\u001b[1;32m-> 1369\u001b[1;33m                 \u001b[0mresponse\u001b[0m\u001b[1;33m.\u001b[0m\u001b[0mbegin\u001b[0m\u001b[1;33m(\u001b[0m\u001b[1;33m)\u001b[0m\u001b[1;33m\u001b[0m\u001b[1;33m\u001b[0m\u001b[0m\n\u001b[0m\u001b[0;32m   1370\u001b[0m             \u001b[1;32mexcept\u001b[0m \u001b[0mConnectionError\u001b[0m\u001b[1;33m:\u001b[0m\u001b[1;33m\u001b[0m\u001b[1;33m\u001b[0m\u001b[0m\n",
      "\u001b[1;32m~\\Anaconda3\\envs\\cs109a\\lib\\http\\client.py\u001b[0m in \u001b[0;36mbegin\u001b[1;34m(self)\u001b[0m\n\u001b[0;32m    309\u001b[0m         \u001b[1;32mwhile\u001b[0m \u001b[1;32mTrue\u001b[0m\u001b[1;33m:\u001b[0m\u001b[1;33m\u001b[0m\u001b[1;33m\u001b[0m\u001b[0m\n\u001b[1;32m--> 310\u001b[1;33m             \u001b[0mversion\u001b[0m\u001b[1;33m,\u001b[0m \u001b[0mstatus\u001b[0m\u001b[1;33m,\u001b[0m \u001b[0mreason\u001b[0m \u001b[1;33m=\u001b[0m \u001b[0mself\u001b[0m\u001b[1;33m.\u001b[0m\u001b[0m_read_status\u001b[0m\u001b[1;33m(\u001b[0m\u001b[1;33m)\u001b[0m\u001b[1;33m\u001b[0m\u001b[1;33m\u001b[0m\u001b[0m\n\u001b[0m\u001b[0;32m    311\u001b[0m             \u001b[1;32mif\u001b[0m \u001b[0mstatus\u001b[0m \u001b[1;33m!=\u001b[0m \u001b[0mCONTINUE\u001b[0m\u001b[1;33m:\u001b[0m\u001b[1;33m\u001b[0m\u001b[1;33m\u001b[0m\u001b[0m\n",
      "\u001b[1;32m~\\Anaconda3\\envs\\cs109a\\lib\\http\\client.py\u001b[0m in \u001b[0;36m_read_status\u001b[1;34m(self)\u001b[0m\n\u001b[0;32m    278\u001b[0m             \u001b[1;31m# sending a valid response.\u001b[0m\u001b[1;33m\u001b[0m\u001b[1;33m\u001b[0m\u001b[1;33m\u001b[0m\u001b[0m\n\u001b[1;32m--> 279\u001b[1;33m             raise RemoteDisconnected(\"Remote end closed connection without\"\n\u001b[0m\u001b[0;32m    280\u001b[0m                                      \" response\")\n",
      "\u001b[1;31mRemoteDisconnected\u001b[0m: Remote end closed connection without response",
      "\nDuring handling of the above exception, another exception occurred:\n",
      "\u001b[1;31mProtocolError\u001b[0m                             Traceback (most recent call last)",
      "\u001b[1;32m~\\Anaconda3\\envs\\cs109a\\lib\\site-packages\\requests\\adapters.py\u001b[0m in \u001b[0;36msend\u001b[1;34m(self, request, stream, timeout, verify, cert, proxies)\u001b[0m\n\u001b[0;32m    448\u001b[0m                     \u001b[0mretries\u001b[0m\u001b[1;33m=\u001b[0m\u001b[0mself\u001b[0m\u001b[1;33m.\u001b[0m\u001b[0mmax_retries\u001b[0m\u001b[1;33m,\u001b[0m\u001b[1;33m\u001b[0m\u001b[1;33m\u001b[0m\u001b[0m\n\u001b[1;32m--> 449\u001b[1;33m                     \u001b[0mtimeout\u001b[0m\u001b[1;33m=\u001b[0m\u001b[0mtimeout\u001b[0m\u001b[1;33m\u001b[0m\u001b[1;33m\u001b[0m\u001b[0m\n\u001b[0m\u001b[0;32m    450\u001b[0m                 )\n",
      "\u001b[1;32m~\\Anaconda3\\envs\\cs109a\\lib\\site-packages\\urllib3\\connectionpool.py\u001b[0m in \u001b[0;36murlopen\u001b[1;34m(self, method, url, body, headers, retries, redirect, assert_same_host, timeout, pool_timeout, release_conn, chunked, body_pos, **response_kw)\u001b[0m\n\u001b[0;32m    637\u001b[0m             retries = retries.increment(method, url, error=e, _pool=self,\n\u001b[1;32m--> 638\u001b[1;33m                                         _stacktrace=sys.exc_info()[2])\n\u001b[0m\u001b[0;32m    639\u001b[0m             \u001b[0mretries\u001b[0m\u001b[1;33m.\u001b[0m\u001b[0msleep\u001b[0m\u001b[1;33m(\u001b[0m\u001b[1;33m)\u001b[0m\u001b[1;33m\u001b[0m\u001b[1;33m\u001b[0m\u001b[0m\n",
      "\u001b[1;32m~\\Anaconda3\\envs\\cs109a\\lib\\site-packages\\urllib3\\util\\retry.py\u001b[0m in \u001b[0;36mincrement\u001b[1;34m(self, method, url, response, error, _pool, _stacktrace)\u001b[0m\n\u001b[0;32m    367\u001b[0m             \u001b[1;32mif\u001b[0m \u001b[0mread\u001b[0m \u001b[1;32mis\u001b[0m \u001b[1;32mFalse\u001b[0m \u001b[1;32mor\u001b[0m \u001b[1;32mnot\u001b[0m \u001b[0mself\u001b[0m\u001b[1;33m.\u001b[0m\u001b[0m_is_method_retryable\u001b[0m\u001b[1;33m(\u001b[0m\u001b[0mmethod\u001b[0m\u001b[1;33m)\u001b[0m\u001b[1;33m:\u001b[0m\u001b[1;33m\u001b[0m\u001b[1;33m\u001b[0m\u001b[0m\n\u001b[1;32m--> 368\u001b[1;33m                 \u001b[1;32mraise\u001b[0m \u001b[0msix\u001b[0m\u001b[1;33m.\u001b[0m\u001b[0mreraise\u001b[0m\u001b[1;33m(\u001b[0m\u001b[0mtype\u001b[0m\u001b[1;33m(\u001b[0m\u001b[0merror\u001b[0m\u001b[1;33m)\u001b[0m\u001b[1;33m,\u001b[0m \u001b[0merror\u001b[0m\u001b[1;33m,\u001b[0m \u001b[0m_stacktrace\u001b[0m\u001b[1;33m)\u001b[0m\u001b[1;33m\u001b[0m\u001b[1;33m\u001b[0m\u001b[0m\n\u001b[0m\u001b[0;32m    369\u001b[0m             \u001b[1;32melif\u001b[0m \u001b[0mread\u001b[0m \u001b[1;32mis\u001b[0m \u001b[1;32mnot\u001b[0m \u001b[1;32mNone\u001b[0m\u001b[1;33m:\u001b[0m\u001b[1;33m\u001b[0m\u001b[1;33m\u001b[0m\u001b[0m\n",
      "\u001b[1;32m~\\Anaconda3\\envs\\cs109a\\lib\\site-packages\\urllib3\\packages\\six.py\u001b[0m in \u001b[0;36mreraise\u001b[1;34m(tp, value, tb)\u001b[0m\n\u001b[0;32m    684\u001b[0m         \u001b[1;32mif\u001b[0m \u001b[0mvalue\u001b[0m\u001b[1;33m.\u001b[0m\u001b[0m__traceback__\u001b[0m \u001b[1;32mis\u001b[0m \u001b[1;32mnot\u001b[0m \u001b[0mtb\u001b[0m\u001b[1;33m:\u001b[0m\u001b[1;33m\u001b[0m\u001b[1;33m\u001b[0m\u001b[0m\n\u001b[1;32m--> 685\u001b[1;33m             \u001b[1;32mraise\u001b[0m \u001b[0mvalue\u001b[0m\u001b[1;33m.\u001b[0m\u001b[0mwith_traceback\u001b[0m\u001b[1;33m(\u001b[0m\u001b[0mtb\u001b[0m\u001b[1;33m)\u001b[0m\u001b[1;33m\u001b[0m\u001b[1;33m\u001b[0m\u001b[0m\n\u001b[0m\u001b[0;32m    686\u001b[0m         \u001b[1;32mraise\u001b[0m \u001b[0mvalue\u001b[0m\u001b[1;33m\u001b[0m\u001b[1;33m\u001b[0m\u001b[0m\n",
      "\u001b[1;32m~\\Anaconda3\\envs\\cs109a\\lib\\site-packages\\urllib3\\connectionpool.py\u001b[0m in \u001b[0;36murlopen\u001b[1;34m(self, method, url, body, headers, retries, redirect, assert_same_host, timeout, pool_timeout, release_conn, chunked, body_pos, **response_kw)\u001b[0m\n\u001b[0;32m    599\u001b[0m                                                   \u001b[0mbody\u001b[0m\u001b[1;33m=\u001b[0m\u001b[0mbody\u001b[0m\u001b[1;33m,\u001b[0m \u001b[0mheaders\u001b[0m\u001b[1;33m=\u001b[0m\u001b[0mheaders\u001b[0m\u001b[1;33m,\u001b[0m\u001b[1;33m\u001b[0m\u001b[1;33m\u001b[0m\u001b[0m\n\u001b[1;32m--> 600\u001b[1;33m                                                   chunked=chunked)\n\u001b[0m\u001b[0;32m    601\u001b[0m \u001b[1;33m\u001b[0m\u001b[0m\n",
      "\u001b[1;32m~\\Anaconda3\\envs\\cs109a\\lib\\site-packages\\urllib3\\connectionpool.py\u001b[0m in \u001b[0;36m_make_request\u001b[1;34m(self, conn, method, url, timeout, chunked, **httplib_request_kw)\u001b[0m\n\u001b[0;32m    383\u001b[0m                     \u001b[1;31m# otherwise it looks like a programming error was the cause.\u001b[0m\u001b[1;33m\u001b[0m\u001b[1;33m\u001b[0m\u001b[1;33m\u001b[0m\u001b[0m\n\u001b[1;32m--> 384\u001b[1;33m                     \u001b[0msix\u001b[0m\u001b[1;33m.\u001b[0m\u001b[0mraise_from\u001b[0m\u001b[1;33m(\u001b[0m\u001b[0me\u001b[0m\u001b[1;33m,\u001b[0m \u001b[1;32mNone\u001b[0m\u001b[1;33m)\u001b[0m\u001b[1;33m\u001b[0m\u001b[1;33m\u001b[0m\u001b[0m\n\u001b[0m\u001b[0;32m    385\u001b[0m         \u001b[1;32mexcept\u001b[0m \u001b[1;33m(\u001b[0m\u001b[0mSocketTimeout\u001b[0m\u001b[1;33m,\u001b[0m \u001b[0mBaseSSLError\u001b[0m\u001b[1;33m,\u001b[0m \u001b[0mSocketError\u001b[0m\u001b[1;33m)\u001b[0m \u001b[1;32mas\u001b[0m \u001b[0me\u001b[0m\u001b[1;33m:\u001b[0m\u001b[1;33m\u001b[0m\u001b[1;33m\u001b[0m\u001b[0m\n",
      "\u001b[1;32m~\\Anaconda3\\envs\\cs109a\\lib\\site-packages\\urllib3\\packages\\six.py\u001b[0m in \u001b[0;36mraise_from\u001b[1;34m(value, from_value)\u001b[0m\n",
      "\u001b[1;32m~\\Anaconda3\\envs\\cs109a\\lib\\site-packages\\urllib3\\connectionpool.py\u001b[0m in \u001b[0;36m_make_request\u001b[1;34m(self, conn, method, url, timeout, chunked, **httplib_request_kw)\u001b[0m\n\u001b[0;32m    379\u001b[0m                 \u001b[1;32mtry\u001b[0m\u001b[1;33m:\u001b[0m\u001b[1;33m\u001b[0m\u001b[1;33m\u001b[0m\u001b[0m\n\u001b[1;32m--> 380\u001b[1;33m                     \u001b[0mhttplib_response\u001b[0m \u001b[1;33m=\u001b[0m \u001b[0mconn\u001b[0m\u001b[1;33m.\u001b[0m\u001b[0mgetresponse\u001b[0m\u001b[1;33m(\u001b[0m\u001b[1;33m)\u001b[0m\u001b[1;33m\u001b[0m\u001b[1;33m\u001b[0m\u001b[0m\n\u001b[0m\u001b[0;32m    381\u001b[0m                 \u001b[1;32mexcept\u001b[0m \u001b[0mException\u001b[0m \u001b[1;32mas\u001b[0m \u001b[0me\u001b[0m\u001b[1;33m:\u001b[0m\u001b[1;33m\u001b[0m\u001b[1;33m\u001b[0m\u001b[0m\n",
      "\u001b[1;32m~\\Anaconda3\\envs\\cs109a\\lib\\http\\client.py\u001b[0m in \u001b[0;36mgetresponse\u001b[1;34m(self)\u001b[0m\n\u001b[0;32m   1368\u001b[0m             \u001b[1;32mtry\u001b[0m\u001b[1;33m:\u001b[0m\u001b[1;33m\u001b[0m\u001b[1;33m\u001b[0m\u001b[0m\n\u001b[1;32m-> 1369\u001b[1;33m                 \u001b[0mresponse\u001b[0m\u001b[1;33m.\u001b[0m\u001b[0mbegin\u001b[0m\u001b[1;33m(\u001b[0m\u001b[1;33m)\u001b[0m\u001b[1;33m\u001b[0m\u001b[1;33m\u001b[0m\u001b[0m\n\u001b[0m\u001b[0;32m   1370\u001b[0m             \u001b[1;32mexcept\u001b[0m \u001b[0mConnectionError\u001b[0m\u001b[1;33m:\u001b[0m\u001b[1;33m\u001b[0m\u001b[1;33m\u001b[0m\u001b[0m\n",
      "\u001b[1;32m~\\Anaconda3\\envs\\cs109a\\lib\\http\\client.py\u001b[0m in \u001b[0;36mbegin\u001b[1;34m(self)\u001b[0m\n\u001b[0;32m    309\u001b[0m         \u001b[1;32mwhile\u001b[0m \u001b[1;32mTrue\u001b[0m\u001b[1;33m:\u001b[0m\u001b[1;33m\u001b[0m\u001b[1;33m\u001b[0m\u001b[0m\n\u001b[1;32m--> 310\u001b[1;33m             \u001b[0mversion\u001b[0m\u001b[1;33m,\u001b[0m \u001b[0mstatus\u001b[0m\u001b[1;33m,\u001b[0m \u001b[0mreason\u001b[0m \u001b[1;33m=\u001b[0m \u001b[0mself\u001b[0m\u001b[1;33m.\u001b[0m\u001b[0m_read_status\u001b[0m\u001b[1;33m(\u001b[0m\u001b[1;33m)\u001b[0m\u001b[1;33m\u001b[0m\u001b[1;33m\u001b[0m\u001b[0m\n\u001b[0m\u001b[0;32m    311\u001b[0m             \u001b[1;32mif\u001b[0m \u001b[0mstatus\u001b[0m \u001b[1;33m!=\u001b[0m \u001b[0mCONTINUE\u001b[0m\u001b[1;33m:\u001b[0m\u001b[1;33m\u001b[0m\u001b[1;33m\u001b[0m\u001b[0m\n",
      "\u001b[1;32m~\\Anaconda3\\envs\\cs109a\\lib\\http\\client.py\u001b[0m in \u001b[0;36m_read_status\u001b[1;34m(self)\u001b[0m\n\u001b[0;32m    278\u001b[0m             \u001b[1;31m# sending a valid response.\u001b[0m\u001b[1;33m\u001b[0m\u001b[1;33m\u001b[0m\u001b[1;33m\u001b[0m\u001b[0m\n\u001b[1;32m--> 279\u001b[1;33m             raise RemoteDisconnected(\"Remote end closed connection without\"\n\u001b[0m\u001b[0;32m    280\u001b[0m                                      \" response\")\n",
      "\u001b[1;31mProtocolError\u001b[0m: ('Connection aborted.', RemoteDisconnected('Remote end closed connection without response'))",
      "\nDuring handling of the above exception, another exception occurred:\n",
      "\u001b[1;31mConnectionError\u001b[0m                           Traceback (most recent call last)",
      "\u001b[1;32m<ipython-input-12-90b2c9ca31be>\u001b[0m in \u001b[0;36m<module>\u001b[1;34m\u001b[0m\n\u001b[0;32m      1\u001b[0m \u001b[0msnapshot_url2\u001b[0m \u001b[1;33m=\u001b[0m \u001b[1;34m'http://web.archive.org/web/20180820111639/https://www.xoogle.be'\u001b[0m\u001b[1;33m\u001b[0m\u001b[1;33m\u001b[0m\u001b[0m\n\u001b[1;32m----> 2\u001b[1;33m \u001b[0msnapshot\u001b[0m \u001b[1;33m=\u001b[0m \u001b[0mrequests\u001b[0m\u001b[1;33m.\u001b[0m\u001b[0mget\u001b[0m\u001b[1;33m(\u001b[0m\u001b[0msnapshot_url2\u001b[0m\u001b[1;33m)\u001b[0m\u001b[1;33m\u001b[0m\u001b[1;33m\u001b[0m\u001b[0m\n\u001b[0m\u001b[0;32m      3\u001b[0m \u001b[0msnapshot\u001b[0m\u001b[1;33m\u001b[0m\u001b[1;33m\u001b[0m\u001b[0m\n",
      "\u001b[1;32m~\\Anaconda3\\envs\\cs109a\\lib\\site-packages\\requests\\api.py\u001b[0m in \u001b[0;36mget\u001b[1;34m(url, params, **kwargs)\u001b[0m\n\u001b[0;32m     73\u001b[0m \u001b[1;33m\u001b[0m\u001b[0m\n\u001b[0;32m     74\u001b[0m     \u001b[0mkwargs\u001b[0m\u001b[1;33m.\u001b[0m\u001b[0msetdefault\u001b[0m\u001b[1;33m(\u001b[0m\u001b[1;34m'allow_redirects'\u001b[0m\u001b[1;33m,\u001b[0m \u001b[1;32mTrue\u001b[0m\u001b[1;33m)\u001b[0m\u001b[1;33m\u001b[0m\u001b[1;33m\u001b[0m\u001b[0m\n\u001b[1;32m---> 75\u001b[1;33m     \u001b[1;32mreturn\u001b[0m \u001b[0mrequest\u001b[0m\u001b[1;33m(\u001b[0m\u001b[1;34m'get'\u001b[0m\u001b[1;33m,\u001b[0m \u001b[0murl\u001b[0m\u001b[1;33m,\u001b[0m \u001b[0mparams\u001b[0m\u001b[1;33m=\u001b[0m\u001b[0mparams\u001b[0m\u001b[1;33m,\u001b[0m \u001b[1;33m**\u001b[0m\u001b[0mkwargs\u001b[0m\u001b[1;33m)\u001b[0m\u001b[1;33m\u001b[0m\u001b[1;33m\u001b[0m\u001b[0m\n\u001b[0m\u001b[0;32m     76\u001b[0m \u001b[1;33m\u001b[0m\u001b[0m\n\u001b[0;32m     77\u001b[0m \u001b[1;33m\u001b[0m\u001b[0m\n",
      "\u001b[1;32m~\\Anaconda3\\envs\\cs109a\\lib\\site-packages\\requests\\api.py\u001b[0m in \u001b[0;36mrequest\u001b[1;34m(method, url, **kwargs)\u001b[0m\n\u001b[0;32m     58\u001b[0m     \u001b[1;31m# cases, and look like a memory leak in others.\u001b[0m\u001b[1;33m\u001b[0m\u001b[1;33m\u001b[0m\u001b[1;33m\u001b[0m\u001b[0m\n\u001b[0;32m     59\u001b[0m     \u001b[1;32mwith\u001b[0m \u001b[0msessions\u001b[0m\u001b[1;33m.\u001b[0m\u001b[0mSession\u001b[0m\u001b[1;33m(\u001b[0m\u001b[1;33m)\u001b[0m \u001b[1;32mas\u001b[0m \u001b[0msession\u001b[0m\u001b[1;33m:\u001b[0m\u001b[1;33m\u001b[0m\u001b[1;33m\u001b[0m\u001b[0m\n\u001b[1;32m---> 60\u001b[1;33m         \u001b[1;32mreturn\u001b[0m \u001b[0msession\u001b[0m\u001b[1;33m.\u001b[0m\u001b[0mrequest\u001b[0m\u001b[1;33m(\u001b[0m\u001b[0mmethod\u001b[0m\u001b[1;33m=\u001b[0m\u001b[0mmethod\u001b[0m\u001b[1;33m,\u001b[0m \u001b[0murl\u001b[0m\u001b[1;33m=\u001b[0m\u001b[0murl\u001b[0m\u001b[1;33m,\u001b[0m \u001b[1;33m**\u001b[0m\u001b[0mkwargs\u001b[0m\u001b[1;33m)\u001b[0m\u001b[1;33m\u001b[0m\u001b[1;33m\u001b[0m\u001b[0m\n\u001b[0m\u001b[0;32m     61\u001b[0m \u001b[1;33m\u001b[0m\u001b[0m\n\u001b[0;32m     62\u001b[0m \u001b[1;33m\u001b[0m\u001b[0m\n",
      "\u001b[1;32m~\\Anaconda3\\envs\\cs109a\\lib\\site-packages\\requests\\sessions.py\u001b[0m in \u001b[0;36mrequest\u001b[1;34m(self, method, url, params, data, headers, cookies, files, auth, timeout, allow_redirects, proxies, hooks, stream, verify, cert, json)\u001b[0m\n\u001b[0;32m    531\u001b[0m         }\n\u001b[0;32m    532\u001b[0m         \u001b[0msend_kwargs\u001b[0m\u001b[1;33m.\u001b[0m\u001b[0mupdate\u001b[0m\u001b[1;33m(\u001b[0m\u001b[0msettings\u001b[0m\u001b[1;33m)\u001b[0m\u001b[1;33m\u001b[0m\u001b[1;33m\u001b[0m\u001b[0m\n\u001b[1;32m--> 533\u001b[1;33m         \u001b[0mresp\u001b[0m \u001b[1;33m=\u001b[0m \u001b[0mself\u001b[0m\u001b[1;33m.\u001b[0m\u001b[0msend\u001b[0m\u001b[1;33m(\u001b[0m\u001b[0mprep\u001b[0m\u001b[1;33m,\u001b[0m \u001b[1;33m**\u001b[0m\u001b[0msend_kwargs\u001b[0m\u001b[1;33m)\u001b[0m\u001b[1;33m\u001b[0m\u001b[1;33m\u001b[0m\u001b[0m\n\u001b[0m\u001b[0;32m    534\u001b[0m \u001b[1;33m\u001b[0m\u001b[0m\n\u001b[0;32m    535\u001b[0m         \u001b[1;32mreturn\u001b[0m \u001b[0mresp\u001b[0m\u001b[1;33m\u001b[0m\u001b[1;33m\u001b[0m\u001b[0m\n",
      "\u001b[1;32m~\\Anaconda3\\envs\\cs109a\\lib\\site-packages\\requests\\sessions.py\u001b[0m in \u001b[0;36msend\u001b[1;34m(self, request, **kwargs)\u001b[0m\n\u001b[0;32m    644\u001b[0m \u001b[1;33m\u001b[0m\u001b[0m\n\u001b[0;32m    645\u001b[0m         \u001b[1;31m# Send the request\u001b[0m\u001b[1;33m\u001b[0m\u001b[1;33m\u001b[0m\u001b[1;33m\u001b[0m\u001b[0m\n\u001b[1;32m--> 646\u001b[1;33m         \u001b[0mr\u001b[0m \u001b[1;33m=\u001b[0m \u001b[0madapter\u001b[0m\u001b[1;33m.\u001b[0m\u001b[0msend\u001b[0m\u001b[1;33m(\u001b[0m\u001b[0mrequest\u001b[0m\u001b[1;33m,\u001b[0m \u001b[1;33m**\u001b[0m\u001b[0mkwargs\u001b[0m\u001b[1;33m)\u001b[0m\u001b[1;33m\u001b[0m\u001b[1;33m\u001b[0m\u001b[0m\n\u001b[0m\u001b[0;32m    647\u001b[0m \u001b[1;33m\u001b[0m\u001b[0m\n\u001b[0;32m    648\u001b[0m         \u001b[1;31m# Total elapsed time of the request (approximately)\u001b[0m\u001b[1;33m\u001b[0m\u001b[1;33m\u001b[0m\u001b[1;33m\u001b[0m\u001b[0m\n",
      "\u001b[1;32m~\\Anaconda3\\envs\\cs109a\\lib\\site-packages\\requests\\adapters.py\u001b[0m in \u001b[0;36msend\u001b[1;34m(self, request, stream, timeout, verify, cert, proxies)\u001b[0m\n\u001b[0;32m    496\u001b[0m \u001b[1;33m\u001b[0m\u001b[0m\n\u001b[0;32m    497\u001b[0m         \u001b[1;32mexcept\u001b[0m \u001b[1;33m(\u001b[0m\u001b[0mProtocolError\u001b[0m\u001b[1;33m,\u001b[0m \u001b[0msocket\u001b[0m\u001b[1;33m.\u001b[0m\u001b[0merror\u001b[0m\u001b[1;33m)\u001b[0m \u001b[1;32mas\u001b[0m \u001b[0merr\u001b[0m\u001b[1;33m:\u001b[0m\u001b[1;33m\u001b[0m\u001b[1;33m\u001b[0m\u001b[0m\n\u001b[1;32m--> 498\u001b[1;33m             \u001b[1;32mraise\u001b[0m \u001b[0mConnectionError\u001b[0m\u001b[1;33m(\u001b[0m\u001b[0merr\u001b[0m\u001b[1;33m,\u001b[0m \u001b[0mrequest\u001b[0m\u001b[1;33m=\u001b[0m\u001b[0mrequest\u001b[0m\u001b[1;33m)\u001b[0m\u001b[1;33m\u001b[0m\u001b[1;33m\u001b[0m\u001b[0m\n\u001b[0m\u001b[0;32m    499\u001b[0m \u001b[1;33m\u001b[0m\u001b[0m\n\u001b[0;32m    500\u001b[0m         \u001b[1;32mexcept\u001b[0m \u001b[0mMaxRetryError\u001b[0m \u001b[1;32mas\u001b[0m \u001b[0me\u001b[0m\u001b[1;33m:\u001b[0m\u001b[1;33m\u001b[0m\u001b[1;33m\u001b[0m\u001b[0m\n",
      "\u001b[1;31mConnectionError\u001b[0m: ('Connection aborted.', RemoteDisconnected('Remote end closed connection without response'))"
     ]
    }
   ],
   "source": [
    "snapshot_url2 = 'http://web.archive.org/web/20180820111639/https://www.xoogle.be'\n",
    "snapshot = requests.get(snapshot_url2)\n",
    "snapshot"
   ]
  },
  {
   "cell_type": "markdown",
   "metadata": {},
   "source": [
    "Always remember to “not to be evil” when scraping with requests! If downloading multiple pages (like you will be on HW1), always put a delay between requests (e.g, `time.sleep(1)`, with the `time` library) so you don’t unwittingly hammer someone’s webserver and/or get blocked."
   ]
  },
  {
   "cell_type": "code",
   "execution_count": 13,
   "metadata": {},
   "outputs": [
    {
     "name": "stdout",
     "output_type": "stream",
     "text": [
      "\t<!DOCTYPE html>\n",
      "\n",
      "\t<html lang=\"en-US\" prefix=\"og: http://ogp.me/ns#\" class=\"no-js\">\n",
      "\n",
      "\t<head><script src=\"//archive.org/includes/analytics.js?v=cf34f82\" type=\"text/javascript\"></script>\n",
      "<script type=\"text/javascript\">window.addEventListener('DOMContentLoaded',function(){var v=archive_analytics.values;v.service='wb';v.server_name='wwwb-app104.us.archive.org';v.server_ms=706;archive_analytics.send_pageview({});});</script><script type=\"text/javascript\" src=\"/_static/js/playback.bundle.js?v=SOX25l-I\n"
     ]
    }
   ],
   "source": [
    "snapshot = requests.get(snapshot_url)\n",
    "raw_html = snapshot.text\n",
    "print(raw_html[:500])"
   ]
  },
  {
   "cell_type": "markdown",
   "metadata": {},
   "source": [
    "## Regular Expressions\n",
    "You can find specific patterns or strings in text by using Regular Expressions: This is a pattern matching mechanism used throughout Computer Science and programming (it's not just specific to Python). Some great resources that we recommend, if you are interested in them (could be very useful for a homework problem):\n",
    "- https://docs.python.org/3.3/library/re.html\n",
    "- https://regexone.com\n",
    "- https://docs.python.org/3/howto/regex.html.\n",
    "\n",
    "Specify a specific sequence with the help of regex special characters. Some examples: \n",
    "- ```\\S``` : Matches any character which is not a Unicode whitespace character\n",
    "- ```\\d``` : Matches any Unicode decimal digit \n",
    "- ```*``` : Causes the resulting RE to match 0 or more repetitions of the preceding RE, as many repetitions as are possible.\n",
    "\n",
    "**Let's find all the occurances of 'Marie' in our raw_html:**"
   ]
  },
  {
   "cell_type": "code",
   "execution_count": 14,
   "metadata": {},
   "outputs": [],
   "source": [
    "import re "
   ]
  },
  {
   "cell_type": "code",
   "execution_count": 15,
   "metadata": {},
   "outputs": [
    {
     "data": {
      "text/plain": [
       "['Marie', 'Marie', 'Marie', 'Marie', 'Marie', 'Marie']"
      ]
     },
     "execution_count": 15,
     "metadata": {},
     "output_type": "execute_result"
    }
   ],
   "source": [
    "re.findall(r'Marie',raw_html)"
   ]
  },
  {
   "cell_type": "markdown",
   "metadata": {},
   "source": [
    "**Using ```\\S``` to match 'Marie' + ' ' + 'any character which is not a Unicode whitespace character':**"
   ]
  },
  {
   "cell_type": "code",
   "execution_count": 16,
   "metadata": {},
   "outputs": [
    {
     "data": {
      "text/plain": [
       "['Marie G', 'Marie L', 'Marie C', 'Marie B', 'Marie F', 'Marie C']"
      ]
     },
     "execution_count": 16,
     "metadata": {},
     "output_type": "execute_result"
    }
   ],
   "source": [
    "re.findall(r'Marie \\S',raw_html)"
   ]
  },
  {
   "cell_type": "markdown",
   "metadata": {},
   "source": [
    "**How would we find their lastnames that comes after Marie?**"
   ]
  },
  {
   "cell_type": "code",
   "execution_count": 17,
   "metadata": {},
   "outputs": [
    {
     "data": {
      "text/plain": [
       "['Marie Gustave',\n",
       " 'Marie Lehn</a>',\n",
       " 'Marie Curie,',\n",
       " 'Marie Bernhard',\n",
       " 'Marie François',\n",
       " 'Marie Curie,']"
      ]
     },
     "execution_count": 17,
     "metadata": {},
     "output_type": "execute_result"
    }
   ],
   "source": [
    "# Your code here\n",
    "re.findall(r'Marie \\S*',raw_html)"
   ]
  },
  {
   "cell_type": "markdown",
   "metadata": {},
   "source": [
    "Now, we have all our data in the notebook. Unfortunately, it is the form of one really long string, which is hard to work with directly. This is where BeautifulSoup comes in.  "
   ]
  },
  {
   "cell_type": "markdown",
   "metadata": {},
   "source": [
    "## Parse the HTML with BeautifulSoup"
   ]
  },
  {
   "cell_type": "code",
   "execution_count": 18,
   "metadata": {},
   "outputs": [],
   "source": [
    "soup = BeautifulSoup(raw_html, 'html.parser')"
   ]
  },
  {
   "cell_type": "markdown",
   "metadata": {},
   "source": [
    "Key BeautifulSoup functions we’ll be using in this section:\n",
    "- **`tag.prettify()`**: Returns cleaned-up version of raw HTML, useful for printing\n",
    "- **`tag.select(selector)`**: Return a list of nodes matching a [CSS selector](https://developer.mozilla.org/en-US/docs/Learn/CSS/Introduction_to_CSS/Simple_selectors)\n",
    "- **`tag.select_one(selector)`**: Return the first node matching a CSS selector\n",
    "- **`tag.text/soup.get_text()`**: Returns visible text of a node (e.g.,\"`<p>Some text</p>`\" -> \"Some text\")\n",
    "- **`tag.contents`**: A list of the immediate children of this node\n",
    "\n",
    "You can also use these functions to find nodes.\n",
    "- **`tag.find_all(tag_name, attrs=attributes_dict)`**: Returns a list of matching nodes\n",
    "- **`tag.find(tag_name, attrs=attributes_dict)`**: Returns first matching node\n",
    "\n",
    "BeautifulSoup is a very powerful library -- much more info here: https://www.crummy.com/software/BeautifulSoup/bs4/doc/"
   ]
  },
  {
   "cell_type": "markdown",
   "metadata": {},
   "source": [
    "### Let's practice some BeautifulSoup commands..."
   ]
  },
  {
   "cell_type": "markdown",
   "metadata": {},
   "source": [
    "**Print a cleaned-up version of the raw HTML**"
   ]
  },
  {
   "cell_type": "code",
   "execution_count": 19,
   "metadata": {},
   "outputs": [
    {
     "name": "stdout",
     "output_type": "stream",
     "text": [
      "<!DOCTYPE html>\n",
      "<html class=\"no-js\" lang=\"en-US\" prefix=\"og: http://ogp.me/ns#\">\n",
      " <head>\n",
      "  <script src=\"//archive.org/includes/analytics.js?v=cf34f82\" type=\"text/javascript\">\n",
      "  </script>\n",
      "  <script type=\"text/javascript\">\n",
      "   window.addEventListener('DOMContentLoaded',function(){var v=archive_analytics.values;v.service='wb';v.server_name='wwwb-app104.us.archive.org';v.server_ms=706;archive_analytics.send_pageview({});});\n",
      "  </script>\n",
      "  <script charset=\"utf-8\" src=\"/_static/js/playback.bundle.js?v=S\n"
     ]
    }
   ],
   "source": [
    "# Your code here\n",
    "print(soup.prettify()[:500])"
   ]
  },
  {
   "cell_type": "markdown",
   "metadata": {},
   "source": [
    "**Find the first “title” object** "
   ]
  },
  {
   "cell_type": "code",
   "execution_count": 20,
   "metadata": {},
   "outputs": [
    {
     "data": {
      "text/plain": [
       "(<title>All Nobel Prizes</title>, <title>All Nobel Prizes</title>)"
      ]
     },
     "execution_count": 20,
     "metadata": {},
     "output_type": "execute_result"
    }
   ],
   "source": [
    "# Your code here\n",
    "soup.select_one('title'), soup.title"
   ]
  },
  {
   "cell_type": "markdown",
   "metadata": {},
   "source": [
    "**Extract the text of first “title” object** "
   ]
  },
  {
   "cell_type": "code",
   "execution_count": 21,
   "metadata": {},
   "outputs": [
    {
     "data": {
      "text/plain": [
       "'All Nobel Prizes'"
      ]
     },
     "execution_count": 21,
     "metadata": {},
     "output_type": "execute_result"
    }
   ],
   "source": [
    "# Your code here\n",
    "soup.select_one('title').text"
   ]
  },
  {
   "cell_type": "markdown",
   "metadata": {},
   "source": [
    "## Extracting award data"
   ]
  },
  {
   "cell_type": "markdown",
   "metadata": {},
   "source": [
    "Let's use the structure of the HTML document to extract the data we want.\n",
    "\n",
    "From inspecting the page in DevTools, we found that each award is in a `div` with a `by_year` class. Let's get all of them."
   ]
  },
  {
   "cell_type": "code",
   "execution_count": 22,
   "metadata": {},
   "outputs": [
    {
     "data": {
      "text/plain": [
       "640"
      ]
     },
     "execution_count": 22,
     "metadata": {},
     "output_type": "execute_result"
    }
   ],
   "source": [
    "award_nodes = soup.select('.by_year')\n",
    "len(award_nodes)"
   ]
  },
  {
   "cell_type": "code",
   "execution_count": 23,
   "metadata": {},
   "outputs": [
    {
     "data": {
      "text/plain": [
       "640"
      ]
     },
     "execution_count": 23,
     "metadata": {},
     "output_type": "execute_result"
    }
   ],
   "source": [
    "my_award_nodes = soup.find_all('div', attrs={'class': 'by_year'})\n",
    "len(my_award_nodes)"
   ]
  },
  {
   "cell_type": "markdown",
   "metadata": {},
   "source": [
    "Let's pull out an example."
   ]
  },
  {
   "cell_type": "code",
   "execution_count": 24,
   "metadata": {},
   "outputs": [
    {
     "name": "stdout",
     "output_type": "stream",
     "text": [
      "<div class=\"by_year\">\n",
      "<h3><a href=\"http://web.archive.org/web/20180820111639/https://www.nobelprize.org/nobel_prizes/medicine/laureates/1985/\">The Nobel Prize in Physiology or Medicine 1985</a></h3>\n",
      "<h6><a href=\"http://web.archive.org/web/20180820111639/https://www.nobelprize.org/nobel_prizes/medicine/laureates/1985/brown-facts.html\">Michael S. Brown</a> and <a href=\"http://web.archive.org/web/20180820111639/https://www.nobelprize.org/nobel_prizes/medicine/laureates/1985/goldstein-facts.html\">Joseph L. Goldstein</a></h6>\n",
      "<p>“for their discoveries concerning the regulation of cholesterol metabolism”</p>\n",
      "</div>\n"
     ]
    }
   ],
   "source": [
    "award_node = award_nodes[200]\n",
    "print(award_node)"
   ]
  },
  {
   "cell_type": "code",
   "execution_count": 25,
   "metadata": {},
   "outputs": [
    {
     "name": "stdout",
     "output_type": "stream",
     "text": [
      "<div class=\"by_year\">\n",
      " <h3>\n",
      "  <a href=\"http://web.archive.org/web/20180820111639/https://www.nobelprize.org/nobel_prizes/medicine/laureates/1985/\">\n",
      "   The Nobel Prize in Physiology or Medicine 1985\n",
      "  </a>\n",
      " </h3>\n",
      " <h6>\n",
      "  <a href=\"http://web.archive.org/web/20180820111639/https://www.nobelprize.org/nobel_prizes/medicine/laureates/1985/brown-facts.html\">\n",
      "   Michael S. Brown\n",
      "  </a>\n",
      "  and\n",
      "  <a href=\"http://web.archive.org/web/20180820111639/https://www.nobelprize.org/nobel_prizes/medicine/laureates/1985/goldstein-facts.html\">\n",
      "   Joseph L. Goldstein\n",
      "  </a>\n",
      " </h6>\n",
      " <p>\n",
      "  “for their discoveries concerning the regulation of cholesterol metabolism”\n",
      " </p>\n",
      "</div>\n",
      "\n"
     ]
    }
   ],
   "source": [
    "print(award_node.prettify())"
   ]
  },
  {
   "cell_type": "code",
   "execution_count": 26,
   "metadata": {},
   "outputs": [
    {
     "data": {
      "text/html": [
       "<div class=\"by_year\">\n",
       " <h3>\n",
       "  <a href=\"http://web.archive.org/web/20180820111639/https://www.nobelprize.org/nobel_prizes/medicine/laureates/1985/\">\n",
       "   The Nobel Prize in Physiology or Medicine 1985\n",
       "  </a>\n",
       " </h3>\n",
       " <h6>\n",
       "  <a href=\"http://web.archive.org/web/20180820111639/https://www.nobelprize.org/nobel_prizes/medicine/laureates/1985/brown-facts.html\">\n",
       "   Michael S. Brown\n",
       "  </a>\n",
       "  and\n",
       "  <a href=\"http://web.archive.org/web/20180820111639/https://www.nobelprize.org/nobel_prizes/medicine/laureates/1985/goldstein-facts.html\">\n",
       "   Joseph L. Goldstein\n",
       "  </a>\n",
       " </h6>\n",
       " <p>\n",
       "  “for their discoveries concerning the regulation of cholesterol metabolism”\n",
       " </p>\n",
       "</div>\n"
      ],
      "text/plain": [
       "<IPython.core.display.HTML object>"
      ]
     },
     "execution_count": 26,
     "metadata": {},
     "output_type": "execute_result"
    }
   ],
   "source": [
    "HTML(award_node.prettify())"
   ]
  },
  {
   "cell_type": "markdown",
   "metadata": {},
   "source": [
    "#### Let's practice getting data out of a BS Node"
   ]
  },
  {
   "cell_type": "markdown",
   "metadata": {},
   "source": [
    "### The prize title"
   ]
  },
  {
   "cell_type": "code",
   "execution_count": 27,
   "metadata": {},
   "outputs": [
    {
     "data": {
      "text/plain": [
       "'The Nobel Prize in Physiology or Medicine 1985'"
      ]
     },
     "execution_count": 27,
     "metadata": {},
     "output_type": "execute_result"
    }
   ],
   "source": [
    "award_node.select_one('h3').text"
   ]
  },
  {
   "cell_type": "markdown",
   "metadata": {},
   "source": [
    "**How do we separate the title from the year?**"
   ]
  },
  {
   "cell_type": "code",
   "execution_count": 28,
   "metadata": {},
   "outputs": [
    {
     "data": {
      "text/plain": [
       "'The Nobel Prize in Physiology or Medicine'"
      ]
     },
     "execution_count": 28,
     "metadata": {},
     "output_type": "execute_result"
    }
   ],
   "source": [
    "# Your code here\n",
    "award_node.select_one('h3').text[:-5]"
   ]
  },
  {
   "cell_type": "markdown",
   "metadata": {},
   "source": [
    "**How do we separate the year from the year?**"
   ]
  },
  {
   "cell_type": "code",
   "execution_count": 29,
   "metadata": {},
   "outputs": [
    {
     "data": {
      "text/plain": [
       "'1985'"
      ]
     },
     "execution_count": 29,
     "metadata": {},
     "output_type": "execute_result"
    }
   ],
   "source": [
    "# Your code here\n",
    "award_node.select_one('h3').text[-4:]"
   ]
  },
  {
   "cell_type": "markdown",
   "metadata": {},
   "source": [
    "Let's put them into functions:"
   ]
  },
  {
   "cell_type": "code",
   "execution_count": 30,
   "metadata": {},
   "outputs": [],
   "source": [
    "def get_award_title(award_node):\n",
    "    return award_node.select_one('h3').text[:-4].strip()"
   ]
  },
  {
   "cell_type": "code",
   "execution_count": 31,
   "metadata": {},
   "outputs": [],
   "source": [
    "def get_award_year(award_node):\n",
    "    return int(award_node.select_one('h3').text[-4:])"
   ]
  },
  {
   "cell_type": "markdown",
   "metadata": {},
   "source": [
    "**Make a list of titles for all awards**"
   ]
  },
  {
   "cell_type": "code",
   "execution_count": 32,
   "metadata": {},
   "outputs": [
    {
     "data": {
      "text/plain": [
       "['The Nobel Prize in Physics',\n",
       " 'The Nobel Prize in Chemistry',\n",
       " 'The Nobel Prize in Physiology or Medicine',\n",
       " 'The Nobel Prize in Literature',\n",
       " 'The Nobel Peace Prize',\n",
       " 'The Sveriges Riksbank Prize in Economic Sciences in Memory of Alfred Nobel',\n",
       " 'The Nobel Prize in Physics',\n",
       " 'The Nobel Prize in Chemistry',\n",
       " 'The Nobel Prize in Physiology or Medicine',\n",
       " 'The Nobel Prize in Literature',\n",
       " 'The Nobel Peace Prize',\n",
       " 'The Sveriges Riksbank Prize in Economic Sciences in Memory of Alfred Nobel',\n",
       " 'The Nobel Prize in Physics',\n",
       " 'The Nobel Prize in Chemistry',\n",
       " 'The Nobel Prize in Physiology or Medicine',\n",
       " 'The Nobel Prize in Literature',\n",
       " 'The Nobel Peace Prize',\n",
       " 'The Sveriges Riksbank Prize in Economic Sciences in Memory of Alfred Nobel',\n",
       " 'The Nobel Prize in Physics',\n",
       " 'The Nobel Prize in Chemistry']"
      ]
     },
     "execution_count": 32,
     "metadata": {},
     "output_type": "execute_result"
    }
   ],
   "source": [
    "list_awards = []\n",
    "for award_node in award_nodes:\n",
    "    list_awards.append(get_award_title(award_node))\n",
    "list_awards[:20]"
   ]
  },
  {
   "cell_type": "code",
   "execution_count": 33,
   "metadata": {},
   "outputs": [
    {
     "data": {
      "text/plain": [
       "{'The Nobel Peace Prize',\n",
       " 'The Nobel Prize in Chemistry',\n",
       " 'The Nobel Prize in Literature',\n",
       " 'The Nobel Prize in Physics',\n",
       " 'The Nobel Prize in Physiology or Medicine',\n",
       " 'The Sveriges Riksbank Prize in Economic Sciences in Memory of Alfred Nobel'}"
      ]
     },
     "execution_count": 33,
     "metadata": {},
     "output_type": "execute_result"
    }
   ],
   "source": [
    "# list of unique titles\n",
    "awards_list = set()\n",
    "for award_node in award_nodes:\n",
    "    awards_list.add(get_award_title(award_node))\n",
    "awards_list"
   ]
  },
  {
   "cell_type": "markdown",
   "metadata": {},
   "source": [
    "**Let's use list comprehension:**"
   ]
  },
  {
   "cell_type": "code",
   "execution_count": 34,
   "metadata": {},
   "outputs": [
    {
     "data": {
      "text/plain": [
       "{'The Nobel Peace Prize',\n",
       " 'The Nobel Prize in Chemistry',\n",
       " 'The Nobel Prize in Literature',\n",
       " 'The Nobel Prize in Physics',\n",
       " 'The Nobel Prize in Physiology or Medicine',\n",
       " 'The Sveriges Riksbank Prize in Economic Sciences in Memory of Alfred Nobel'}"
      ]
     },
     "execution_count": 34,
     "metadata": {},
     "output_type": "execute_result"
    }
   ],
   "source": [
    "# Your code here\n",
    "set([get_award_title(award_node) for award_node in award_nodes])"
   ]
  },
  {
   "cell_type": "markdown",
   "metadata": {},
   "source": [
    "### The recipients\n",
    "**How do we handle there being more than one?**"
   ]
  },
  {
   "cell_type": "code",
   "execution_count": 35,
   "metadata": {},
   "outputs": [
    {
     "name": "stdout",
     "output_type": "stream",
     "text": [
      "<div class=\"by_year\">\n",
      " <h3>\n",
      "  <a href=\"http://web.archive.org/web/20180820111639/https://www.nobelprize.org/nobel_prizes/peace/laureates/1901/\">\n",
      "   The Nobel Peace Prize 1901\n",
      "  </a>\n",
      " </h3>\n",
      " <h6>\n",
      "  <a href=\"http://web.archive.org/web/20180820111639/https://www.nobelprize.org/nobel_prizes/peace/laureates/1901/dunant-facts.html\">\n",
      "   Jean Henry Dunant\n",
      "  </a>\n",
      " </h6>\n",
      " <div class=\"by_year_clear\">\n",
      " </div>\n",
      " <h6>\n",
      "  <a href=\"http://web.archive.org/web/20180820111639/https://www.nobelprize.org/nobel_prizes/peace/laureates/1901/passy-facts.html\">\n",
      "   Frédéric Passy\n",
      "  </a>\n",
      " </h6>\n",
      "</div>\n",
      "\n"
     ]
    },
    {
     "data": {
      "text/plain": [
       "['Jean Henry Dunant', 'Frédéric Passy']"
      ]
     },
     "execution_count": 35,
     "metadata": {},
     "output_type": "execute_result"
    }
   ],
   "source": [
    "print(award_node.prettify())\n",
    "[authour.text for authour in award_node.select('h6')]"
   ]
  },
  {
   "cell_type": "code",
   "execution_count": 36,
   "metadata": {},
   "outputs": [
    {
     "data": {
      "text/plain": [
       "['Jean Henry Dunant', 'Frédéric Passy']"
      ]
     },
     "execution_count": 36,
     "metadata": {},
     "output_type": "execute_result"
    }
   ],
   "source": [
    "[node.text for node in award_node.select('h6 a')]"
   ]
  },
  {
   "cell_type": "markdown",
   "metadata": {},
   "source": [
    "We'll leave them as a list for now, to return to this later."
   ]
  },
  {
   "cell_type": "markdown",
   "metadata": {},
   "source": [
    "### The prize \"motivation\"\n",
    "\n",
    "**How would you get the 'motivation'/reason of the prize from the following ```award_node```?**"
   ]
  },
  {
   "cell_type": "code",
   "execution_count": 37,
   "metadata": {},
   "outputs": [
    {
     "data": {
      "text/plain": [
       "<div class=\"by_year\">\n",
       "<h3><a href=\"http://web.archive.org/web/20180820111639/https://www.nobelprize.org/nobel_prizes/medicine/laureates/1985/\">The Nobel Prize in Physiology or Medicine 1985</a></h3>\n",
       "<h6><a href=\"http://web.archive.org/web/20180820111639/https://www.nobelprize.org/nobel_prizes/medicine/laureates/1985/brown-facts.html\">Michael S. Brown</a> and <a href=\"http://web.archive.org/web/20180820111639/https://www.nobelprize.org/nobel_prizes/medicine/laureates/1985/goldstein-facts.html\">Joseph L. Goldstein</a></h6>\n",
       "<p>“for their discoveries concerning the regulation of cholesterol metabolism”</p>\n",
       "</div>"
      ]
     },
     "execution_count": 37,
     "metadata": {},
     "output_type": "execute_result"
    }
   ],
   "source": [
    "award_node = award_nodes[200]\n",
    "award_node"
   ]
  },
  {
   "cell_type": "code",
   "execution_count": 38,
   "metadata": {},
   "outputs": [
    {
     "name": "stdout",
     "output_type": "stream",
     "text": [
      "<div class=\"by_year\">\n",
      " <h3>\n",
      "  <a href=\"http://web.archive.org/web/20180820111639/https://www.nobelprize.org/nobel_prizes/medicine/laureates/1985/\">\n",
      "   The Nobel Prize in Physiology or Medicine 1985\n",
      "  </a>\n",
      " </h3>\n",
      " <h6>\n",
      "  <a href=\"http://web.archive.org/web/20180820111639/https://www.nobelprize.org/nobel_prizes/medicine/laureates/1985/brown-facts.html\">\n",
      "   Michael S. Brown\n",
      "  </a>\n",
      "  and\n",
      "  <a href=\"http://web.archive.org/web/20180820111639/https://www.nobelprize.org/nobel_prizes/medicine/laureates/1985/goldstein-facts.html\">\n",
      "   Joseph L. Goldstein\n",
      "  </a>\n",
      " </h6>\n",
      " <p>\n",
      "  “for their discoveries concerning the regulation of cholesterol metabolism”\n",
      " </p>\n",
      "</div>\n",
      "\n"
     ]
    }
   ],
   "source": [
    "print(award_node.prettify())"
   ]
  },
  {
   "cell_type": "code",
   "execution_count": 39,
   "metadata": {},
   "outputs": [
    {
     "data": {
      "text/html": [
       "<div class=\"by_year\">\n",
       " <h3>\n",
       "  <a href=\"http://web.archive.org/web/20180820111639/https://www.nobelprize.org/nobel_prizes/medicine/laureates/1985/\">\n",
       "   The Nobel Prize in Physiology or Medicine 1985\n",
       "  </a>\n",
       " </h3>\n",
       " <h6>\n",
       "  <a href=\"http://web.archive.org/web/20180820111639/https://www.nobelprize.org/nobel_prizes/medicine/laureates/1985/brown-facts.html\">\n",
       "   Michael S. Brown\n",
       "  </a>\n",
       "  and\n",
       "  <a href=\"http://web.archive.org/web/20180820111639/https://www.nobelprize.org/nobel_prizes/medicine/laureates/1985/goldstein-facts.html\">\n",
       "   Joseph L. Goldstein\n",
       "  </a>\n",
       " </h6>\n",
       " <p>\n",
       "  “for their discoveries concerning the regulation of cholesterol metabolism”\n",
       " </p>\n",
       "</div>\n"
      ],
      "text/plain": [
       "<IPython.core.display.HTML object>"
      ]
     },
     "execution_count": 39,
     "metadata": {},
     "output_type": "execute_result"
    }
   ],
   "source": [
    "HTML(award_node.prettify())"
   ]
  },
  {
   "cell_type": "code",
   "execution_count": 40,
   "metadata": {},
   "outputs": [
    {
     "data": {
      "text/plain": [
       "'“for their discoveries concerning the regulation of cholesterol metabolism”'"
      ]
     },
     "execution_count": 40,
     "metadata": {},
     "output_type": "execute_result"
    }
   ],
   "source": [
    "# Your code here\n",
    "award_node.select_one('p').text"
   ]
  },
  {
   "cell_type": "markdown",
   "metadata": {},
   "source": [
    "Putting everything into functions: "
   ]
  },
  {
   "cell_type": "code",
   "execution_count": 41,
   "metadata": {},
   "outputs": [],
   "source": [
    "def get_award_motivation(award_node):\n",
    "    award_node = award_node.select_one('p')\n",
    "    if not award_node:\n",
    "        return None\n",
    "    return award_node.text #.lstrip('\\u201c').rstrip('\\u201d')"
   ]
  },
  {
   "cell_type": "code",
   "execution_count": 42,
   "metadata": {},
   "outputs": [],
   "source": [
    "def get_recipients(award_node):\n",
    "    return [node.text for node in award_node.select('h6 a')]"
   ]
  },
  {
   "cell_type": "code",
   "execution_count": 43,
   "metadata": {},
   "outputs": [
    {
     "data": {
      "text/plain": [
       "(['Michael S. Brown', 'Joseph L. Goldstein'],\n",
       " '“for their discoveries concerning the regulation of cholesterol metabolism”')"
      ]
     },
     "execution_count": 43,
     "metadata": {},
     "output_type": "execute_result"
    }
   ],
   "source": [
    "get_recipients(award_node), get_award_motivation(award_node)"
   ]
  },
  {
   "cell_type": "markdown",
   "metadata": {},
   "source": [
    "## Let's create a Pandas dataframe"
   ]
  },
  {
   "cell_type": "markdown",
   "metadata": {},
   "source": [
    "Now let's get all of the awards."
   ]
  },
  {
   "cell_type": "code",
   "execution_count": 44,
   "metadata": {},
   "outputs": [],
   "source": [
    "awards = []\n",
    "for award_node in soup.select('.by_year'):\n",
    "    recipients = get_recipients(award_node)\n",
    "    award = {}\n",
    "    award['title'] = get_award_title(award_node)\n",
    "    award['year'] = get_award_year(award_node)\n",
    "    award['recipients'] = recipients\n",
    "    award['num_recipients'] = len(recipients)\n",
    "    award['motivation'] = get_award_motivation(award_node)    \n",
    "    awards.append(award)"
   ]
  },
  {
   "cell_type": "code",
   "execution_count": 45,
   "metadata": {},
   "outputs": [
    {
     "data": {
      "text/html": [
       "<div>\n",
       "<style scoped>\n",
       "    .dataframe tbody tr th:only-of-type {\n",
       "        vertical-align: middle;\n",
       "    }\n",
       "\n",
       "    .dataframe tbody tr th {\n",
       "        vertical-align: top;\n",
       "    }\n",
       "\n",
       "    .dataframe thead th {\n",
       "        text-align: right;\n",
       "    }\n",
       "</style>\n",
       "<table border=\"1\" class=\"dataframe\">\n",
       "  <thead>\n",
       "    <tr style=\"text-align: right;\">\n",
       "      <th></th>\n",
       "      <th>motivation</th>\n",
       "      <th>num_recipients</th>\n",
       "      <th>recipients</th>\n",
       "      <th>title</th>\n",
       "      <th>year</th>\n",
       "    </tr>\n",
       "  </thead>\n",
       "  <tbody>\n",
       "    <tr>\n",
       "      <th>0</th>\n",
       "      <td>The 2018 Nobel Prize in Physics has not been a...</td>\n",
       "      <td>0</td>\n",
       "      <td>[]</td>\n",
       "      <td>The Nobel Prize in Physics</td>\n",
       "      <td>2018</td>\n",
       "    </tr>\n",
       "    <tr>\n",
       "      <th>1</th>\n",
       "      <td>The 2018 Nobel Prize in Chemistry has not been...</td>\n",
       "      <td>0</td>\n",
       "      <td>[]</td>\n",
       "      <td>The Nobel Prize in Chemistry</td>\n",
       "      <td>2018</td>\n",
       "    </tr>\n",
       "    <tr>\n",
       "      <th>2</th>\n",
       "      <td>The 2018 Nobel Prize in Physiology or Medicine...</td>\n",
       "      <td>0</td>\n",
       "      <td>[]</td>\n",
       "      <td>The Nobel Prize in Physiology or Medicine</td>\n",
       "      <td>2018</td>\n",
       "    </tr>\n",
       "    <tr>\n",
       "      <th>3</th>\n",
       "      <td>The 2018 Nobel Prize in Literature has been po...</td>\n",
       "      <td>0</td>\n",
       "      <td>[]</td>\n",
       "      <td>The Nobel Prize in Literature</td>\n",
       "      <td>2018</td>\n",
       "    </tr>\n",
       "    <tr>\n",
       "      <th>4</th>\n",
       "      <td>The 2018 Nobel Peace Prize has not been awarde...</td>\n",
       "      <td>0</td>\n",
       "      <td>[]</td>\n",
       "      <td>The Nobel Peace Prize</td>\n",
       "      <td>2018</td>\n",
       "    </tr>\n",
       "  </tbody>\n",
       "</table>\n",
       "</div>"
      ],
      "text/plain": [
       "                                          motivation  num_recipients  \\\n",
       "0  The 2018 Nobel Prize in Physics has not been a...               0   \n",
       "1  The 2018 Nobel Prize in Chemistry has not been...               0   \n",
       "2  The 2018 Nobel Prize in Physiology or Medicine...               0   \n",
       "3  The 2018 Nobel Prize in Literature has been po...               0   \n",
       "4  The 2018 Nobel Peace Prize has not been awarde...               0   \n",
       "\n",
       "  recipients                                      title  year  \n",
       "0         []                 The Nobel Prize in Physics  2018  \n",
       "1         []               The Nobel Prize in Chemistry  2018  \n",
       "2         []  The Nobel Prize in Physiology or Medicine  2018  \n",
       "3         []              The Nobel Prize in Literature  2018  \n",
       "4         []                      The Nobel Peace Prize  2018  "
      ]
     },
     "execution_count": 45,
     "metadata": {},
     "output_type": "execute_result"
    }
   ],
   "source": [
    "df_awards_raw = pd.DataFrame(awards)\n",
    "df_awards_raw.head()"
   ]
  },
  {
   "cell_type": "markdown",
   "metadata": {},
   "source": [
    "### Some quick EDA."
   ]
  },
  {
   "cell_type": "code",
   "execution_count": 47,
   "metadata": {},
   "outputs": [
    {
     "name": "stdout",
     "output_type": "stream",
     "text": [
      "<class 'pandas.core.frame.DataFrame'>\n",
      "RangeIndex: 640 entries, 0 to 639\n",
      "Data columns (total 5 columns):\n",
      "motivation        571 non-null object\n",
      "num_recipients    640 non-null int64\n",
      "recipients        640 non-null object\n",
      "title             640 non-null object\n",
      "year              640 non-null int64\n",
      "dtypes: int64(2), object(3)\n",
      "memory usage: 25.1+ KB\n"
     ]
    }
   ],
   "source": [
    "df_awards_raw.info()"
   ]
  },
  {
   "cell_type": "code",
   "execution_count": 48,
   "metadata": {},
   "outputs": [
    {
     "data": {
      "text/plain": [
       "1901"
      ]
     },
     "execution_count": 48,
     "metadata": {},
     "output_type": "execute_result"
    }
   ],
   "source": [
    "df_awards_raw.year.min()"
   ]
  },
  {
   "cell_type": "markdown",
   "metadata": {},
   "source": [
    "**Hm, that's suspiciously close to a round number. Are we missing some?**"
   ]
  },
  {
   "cell_type": "markdown",
   "metadata": {},
   "source": [
    "**How about recipients?**"
   ]
  },
  {
   "cell_type": "code",
   "execution_count": 49,
   "metadata": {},
   "outputs": [
    {
     "data": {
      "text/plain": [
       "1    347\n",
       "2    138\n",
       "3    100\n",
       "0     55\n",
       "Name: num_recipients, dtype: int64"
      ]
     },
     "execution_count": 49,
     "metadata": {},
     "output_type": "execute_result"
    }
   ],
   "source": [
    "df_awards_raw.num_recipients.value_counts()"
   ]
  },
  {
   "cell_type": "markdown",
   "metadata": {},
   "source": [
    "Why do some have no recipients?"
   ]
  },
  {
   "cell_type": "code",
   "execution_count": 50,
   "metadata": {
    "collapsed": true,
    "jupyter": {
     "outputs_hidden": true
    }
   },
   "outputs": [
    {
     "data": {
      "text/html": [
       "<div>\n",
       "<style scoped>\n",
       "    .dataframe tbody tr th:only-of-type {\n",
       "        vertical-align: middle;\n",
       "    }\n",
       "\n",
       "    .dataframe tbody tr th {\n",
       "        vertical-align: top;\n",
       "    }\n",
       "\n",
       "    .dataframe thead th {\n",
       "        text-align: right;\n",
       "    }\n",
       "</style>\n",
       "<table border=\"1\" class=\"dataframe\">\n",
       "  <thead>\n",
       "    <tr style=\"text-align: right;\">\n",
       "      <th></th>\n",
       "      <th>motivation</th>\n",
       "      <th>num_recipients</th>\n",
       "      <th>recipients</th>\n",
       "      <th>title</th>\n",
       "      <th>year</th>\n",
       "    </tr>\n",
       "  </thead>\n",
       "  <tbody>\n",
       "    <tr>\n",
       "      <th>0</th>\n",
       "      <td>The 2018 Nobel Prize in Physics has not been a...</td>\n",
       "      <td>0</td>\n",
       "      <td>[]</td>\n",
       "      <td>The Nobel Prize in Physics</td>\n",
       "      <td>2018</td>\n",
       "    </tr>\n",
       "    <tr>\n",
       "      <th>1</th>\n",
       "      <td>The 2018 Nobel Prize in Chemistry has not been...</td>\n",
       "      <td>0</td>\n",
       "      <td>[]</td>\n",
       "      <td>The Nobel Prize in Chemistry</td>\n",
       "      <td>2018</td>\n",
       "    </tr>\n",
       "    <tr>\n",
       "      <th>2</th>\n",
       "      <td>The 2018 Nobel Prize in Physiology or Medicine...</td>\n",
       "      <td>0</td>\n",
       "      <td>[]</td>\n",
       "      <td>The Nobel Prize in Physiology or Medicine</td>\n",
       "      <td>2018</td>\n",
       "    </tr>\n",
       "    <tr>\n",
       "      <th>3</th>\n",
       "      <td>The 2018 Nobel Prize in Literature has been po...</td>\n",
       "      <td>0</td>\n",
       "      <td>[]</td>\n",
       "      <td>The Nobel Prize in Literature</td>\n",
       "      <td>2018</td>\n",
       "    </tr>\n",
       "    <tr>\n",
       "      <th>4</th>\n",
       "      <td>The 2018 Nobel Peace Prize has not been awarde...</td>\n",
       "      <td>0</td>\n",
       "      <td>[]</td>\n",
       "      <td>The Nobel Peace Prize</td>\n",
       "      <td>2018</td>\n",
       "    </tr>\n",
       "    <tr>\n",
       "      <th>5</th>\n",
       "      <td>The 2018 Prize in Economic Sciences has not be...</td>\n",
       "      <td>0</td>\n",
       "      <td>[]</td>\n",
       "      <td>The Sveriges Riksbank Prize in Economic Scienc...</td>\n",
       "      <td>2018</td>\n",
       "    </tr>\n",
       "    <tr>\n",
       "      <th>280</th>\n",
       "      <td>No Nobel Prize was awarded this year. The priz...</td>\n",
       "      <td>0</td>\n",
       "      <td>[]</td>\n",
       "      <td>The Nobel Peace Prize</td>\n",
       "      <td>1972</td>\n",
       "    </tr>\n",
       "    <tr>\n",
       "      <th>309</th>\n",
       "      <td>No Nobel Prize was awarded this year. The priz...</td>\n",
       "      <td>0</td>\n",
       "      <td>[]</td>\n",
       "      <td>The Nobel Peace Prize</td>\n",
       "      <td>1967</td>\n",
       "    </tr>\n",
       "    <tr>\n",
       "      <th>314</th>\n",
       "      <td>No Nobel Prize was awarded this year. The priz...</td>\n",
       "      <td>0</td>\n",
       "      <td>[]</td>\n",
       "      <td>The Nobel Peace Prize</td>\n",
       "      <td>1966</td>\n",
       "    </tr>\n",
       "    <tr>\n",
       "      <th>364</th>\n",
       "      <td>No Nobel Prize was awarded this year. The priz...</td>\n",
       "      <td>0</td>\n",
       "      <td>[]</td>\n",
       "      <td>The Nobel Peace Prize</td>\n",
       "      <td>1956</td>\n",
       "    </tr>\n",
       "    <tr>\n",
       "      <th>369</th>\n",
       "      <td>No Nobel Prize was awarded this year. The priz...</td>\n",
       "      <td>0</td>\n",
       "      <td>[]</td>\n",
       "      <td>The Nobel Peace Prize</td>\n",
       "      <td>1955</td>\n",
       "    </tr>\n",
       "    <tr>\n",
       "      <th>404</th>\n",
       "      <td>No Nobel Prize was awarded this year. The priz...</td>\n",
       "      <td>0</td>\n",
       "      <td>[]</td>\n",
       "      <td>The Nobel Peace Prize</td>\n",
       "      <td>1948</td>\n",
       "    </tr>\n",
       "    <tr>\n",
       "      <th>428</th>\n",
       "      <td>No Nobel Prize was awarded this year. The priz...</td>\n",
       "      <td>0</td>\n",
       "      <td>[]</td>\n",
       "      <td>The Nobel Prize in Literature</td>\n",
       "      <td>1943</td>\n",
       "    </tr>\n",
       "    <tr>\n",
       "      <th>429</th>\n",
       "      <td>No Nobel Prize was awarded this year. The priz...</td>\n",
       "      <td>0</td>\n",
       "      <td>[]</td>\n",
       "      <td>The Nobel Peace Prize</td>\n",
       "      <td>1943</td>\n",
       "    </tr>\n",
       "    <tr>\n",
       "      <th>430</th>\n",
       "      <td>No Nobel Prize was awarded this year. The priz...</td>\n",
       "      <td>0</td>\n",
       "      <td>[]</td>\n",
       "      <td>The Nobel Prize in Physics</td>\n",
       "      <td>1942</td>\n",
       "    </tr>\n",
       "    <tr>\n",
       "      <th>431</th>\n",
       "      <td>No Nobel Prize was awarded this year. The priz...</td>\n",
       "      <td>0</td>\n",
       "      <td>[]</td>\n",
       "      <td>The Nobel Prize in Chemistry</td>\n",
       "      <td>1942</td>\n",
       "    </tr>\n",
       "    <tr>\n",
       "      <th>432</th>\n",
       "      <td>No Nobel Prize was awarded this year. The priz...</td>\n",
       "      <td>0</td>\n",
       "      <td>[]</td>\n",
       "      <td>The Nobel Prize in Physiology or Medicine</td>\n",
       "      <td>1942</td>\n",
       "    </tr>\n",
       "    <tr>\n",
       "      <th>433</th>\n",
       "      <td>No Nobel Prize was awarded this year. The priz...</td>\n",
       "      <td>0</td>\n",
       "      <td>[]</td>\n",
       "      <td>The Nobel Prize in Literature</td>\n",
       "      <td>1942</td>\n",
       "    </tr>\n",
       "    <tr>\n",
       "      <th>434</th>\n",
       "      <td>No Nobel Prize was awarded this year. The priz...</td>\n",
       "      <td>0</td>\n",
       "      <td>[]</td>\n",
       "      <td>The Nobel Peace Prize</td>\n",
       "      <td>1942</td>\n",
       "    </tr>\n",
       "    <tr>\n",
       "      <th>435</th>\n",
       "      <td>No Nobel Prize was awarded this year. The priz...</td>\n",
       "      <td>0</td>\n",
       "      <td>[]</td>\n",
       "      <td>The Nobel Prize in Physics</td>\n",
       "      <td>1941</td>\n",
       "    </tr>\n",
       "    <tr>\n",
       "      <th>436</th>\n",
       "      <td>No Nobel Prize was awarded this year. The priz...</td>\n",
       "      <td>0</td>\n",
       "      <td>[]</td>\n",
       "      <td>The Nobel Prize in Chemistry</td>\n",
       "      <td>1941</td>\n",
       "    </tr>\n",
       "    <tr>\n",
       "      <th>437</th>\n",
       "      <td>No Nobel Prize was awarded this year. The priz...</td>\n",
       "      <td>0</td>\n",
       "      <td>[]</td>\n",
       "      <td>The Nobel Prize in Physiology or Medicine</td>\n",
       "      <td>1941</td>\n",
       "    </tr>\n",
       "    <tr>\n",
       "      <th>438</th>\n",
       "      <td>No Nobel Prize was awarded this year. The priz...</td>\n",
       "      <td>0</td>\n",
       "      <td>[]</td>\n",
       "      <td>The Nobel Prize in Literature</td>\n",
       "      <td>1941</td>\n",
       "    </tr>\n",
       "    <tr>\n",
       "      <th>439</th>\n",
       "      <td>No Nobel Prize was awarded this year. The priz...</td>\n",
       "      <td>0</td>\n",
       "      <td>[]</td>\n",
       "      <td>The Nobel Peace Prize</td>\n",
       "      <td>1941</td>\n",
       "    </tr>\n",
       "    <tr>\n",
       "      <th>440</th>\n",
       "      <td>No Nobel Prize was awarded this year. The priz...</td>\n",
       "      <td>0</td>\n",
       "      <td>[]</td>\n",
       "      <td>The Nobel Prize in Physics</td>\n",
       "      <td>1940</td>\n",
       "    </tr>\n",
       "    <tr>\n",
       "      <th>441</th>\n",
       "      <td>No Nobel Prize was awarded this year. The priz...</td>\n",
       "      <td>0</td>\n",
       "      <td>[]</td>\n",
       "      <td>The Nobel Prize in Chemistry</td>\n",
       "      <td>1940</td>\n",
       "    </tr>\n",
       "    <tr>\n",
       "      <th>442</th>\n",
       "      <td>No Nobel Prize was awarded this year. The priz...</td>\n",
       "      <td>0</td>\n",
       "      <td>[]</td>\n",
       "      <td>The Nobel Prize in Physiology or Medicine</td>\n",
       "      <td>1940</td>\n",
       "    </tr>\n",
       "    <tr>\n",
       "      <th>443</th>\n",
       "      <td>No Nobel Prize was awarded this year. The priz...</td>\n",
       "      <td>0</td>\n",
       "      <td>[]</td>\n",
       "      <td>The Nobel Prize in Literature</td>\n",
       "      <td>1940</td>\n",
       "    </tr>\n",
       "    <tr>\n",
       "      <th>444</th>\n",
       "      <td>No Nobel Prize was awarded this year. The priz...</td>\n",
       "      <td>0</td>\n",
       "      <td>[]</td>\n",
       "      <td>The Nobel Peace Prize</td>\n",
       "      <td>1940</td>\n",
       "    </tr>\n",
       "    <tr>\n",
       "      <th>449</th>\n",
       "      <td>No Nobel Prize was awarded this year. The priz...</td>\n",
       "      <td>0</td>\n",
       "      <td>[]</td>\n",
       "      <td>The Nobel Peace Prize</td>\n",
       "      <td>1939</td>\n",
       "    </tr>\n",
       "    <tr>\n",
       "      <th>468</th>\n",
       "      <td>No Nobel Prize was awarded this year. The priz...</td>\n",
       "      <td>0</td>\n",
       "      <td>[]</td>\n",
       "      <td>The Nobel Prize in Literature</td>\n",
       "      <td>1935</td>\n",
       "    </tr>\n",
       "    <tr>\n",
       "      <th>470</th>\n",
       "      <td>No Nobel Prize was awarded this year. The priz...</td>\n",
       "      <td>0</td>\n",
       "      <td>[]</td>\n",
       "      <td>The Nobel Prize in Physics</td>\n",
       "      <td>1934</td>\n",
       "    </tr>\n",
       "    <tr>\n",
       "      <th>476</th>\n",
       "      <td>No Nobel Prize was awarded this year. The priz...</td>\n",
       "      <td>0</td>\n",
       "      <td>[]</td>\n",
       "      <td>The Nobel Prize in Chemistry</td>\n",
       "      <td>1933</td>\n",
       "    </tr>\n",
       "    <tr>\n",
       "      <th>484</th>\n",
       "      <td>No Nobel Prize was awarded this year. The priz...</td>\n",
       "      <td>0</td>\n",
       "      <td>[]</td>\n",
       "      <td>The Nobel Peace Prize</td>\n",
       "      <td>1932</td>\n",
       "    </tr>\n",
       "    <tr>\n",
       "      <th>485</th>\n",
       "      <td>No Nobel Prize was awarded this year. The priz...</td>\n",
       "      <td>0</td>\n",
       "      <td>[]</td>\n",
       "      <td>The Nobel Prize in Physics</td>\n",
       "      <td>1931</td>\n",
       "    </tr>\n",
       "    <tr>\n",
       "      <th>504</th>\n",
       "      <td>No Nobel Prize was awarded this year. The priz...</td>\n",
       "      <td>0</td>\n",
       "      <td>[]</td>\n",
       "      <td>The Nobel Peace Prize</td>\n",
       "      <td>1928</td>\n",
       "    </tr>\n",
       "    <tr>\n",
       "      <th>517</th>\n",
       "      <td>No Nobel Prize was awarded this year. The priz...</td>\n",
       "      <td>0</td>\n",
       "      <td>[]</td>\n",
       "      <td>The Nobel Prize in Physiology or Medicine</td>\n",
       "      <td>1925</td>\n",
       "    </tr>\n",
       "    <tr>\n",
       "      <th>521</th>\n",
       "      <td>No Nobel Prize was awarded this year. The priz...</td>\n",
       "      <td>0</td>\n",
       "      <td>[]</td>\n",
       "      <td>The Nobel Prize in Chemistry</td>\n",
       "      <td>1924</td>\n",
       "    </tr>\n",
       "    <tr>\n",
       "      <th>524</th>\n",
       "      <td>No Nobel Prize was awarded this year. The priz...</td>\n",
       "      <td>0</td>\n",
       "      <td>[]</td>\n",
       "      <td>The Nobel Peace Prize</td>\n",
       "      <td>1924</td>\n",
       "    </tr>\n",
       "    <tr>\n",
       "      <th>529</th>\n",
       "      <td>No Nobel Prize was awarded this year. The priz...</td>\n",
       "      <td>0</td>\n",
       "      <td>[]</td>\n",
       "      <td>The Nobel Peace Prize</td>\n",
       "      <td>1923</td>\n",
       "    </tr>\n",
       "    <tr>\n",
       "      <th>537</th>\n",
       "      <td>No Nobel Prize was awarded this year. The priz...</td>\n",
       "      <td>0</td>\n",
       "      <td>[]</td>\n",
       "      <td>The Nobel Prize in Physiology or Medicine</td>\n",
       "      <td>1921</td>\n",
       "    </tr>\n",
       "    <tr>\n",
       "      <th>546</th>\n",
       "      <td>No Nobel Prize was awarded this year. The priz...</td>\n",
       "      <td>0</td>\n",
       "      <td>[]</td>\n",
       "      <td>The Nobel Prize in Chemistry</td>\n",
       "      <td>1919</td>\n",
       "    </tr>\n",
       "    <tr>\n",
       "      <th>552</th>\n",
       "      <td>No Nobel Prize was awarded this year. The priz...</td>\n",
       "      <td>0</td>\n",
       "      <td>[]</td>\n",
       "      <td>The Nobel Prize in Physiology or Medicine</td>\n",
       "      <td>1918</td>\n",
       "    </tr>\n",
       "    <tr>\n",
       "      <th>553</th>\n",
       "      <td>No Nobel Prize was awarded this year. The priz...</td>\n",
       "      <td>0</td>\n",
       "      <td>[]</td>\n",
       "      <td>The Nobel Prize in Literature</td>\n",
       "      <td>1918</td>\n",
       "    </tr>\n",
       "    <tr>\n",
       "      <th>554</th>\n",
       "      <td>No Nobel Prize was awarded this year. The priz...</td>\n",
       "      <td>0</td>\n",
       "      <td>[]</td>\n",
       "      <td>The Nobel Peace Prize</td>\n",
       "      <td>1918</td>\n",
       "    </tr>\n",
       "    <tr>\n",
       "      <th>556</th>\n",
       "      <td>No Nobel Prize was awarded this year. The priz...</td>\n",
       "      <td>0</td>\n",
       "      <td>[]</td>\n",
       "      <td>The Nobel Prize in Chemistry</td>\n",
       "      <td>1917</td>\n",
       "    </tr>\n",
       "    <tr>\n",
       "      <th>557</th>\n",
       "      <td>No Nobel Prize was awarded this year. The priz...</td>\n",
       "      <td>0</td>\n",
       "      <td>[]</td>\n",
       "      <td>The Nobel Prize in Physiology or Medicine</td>\n",
       "      <td>1917</td>\n",
       "    </tr>\n",
       "    <tr>\n",
       "      <th>560</th>\n",
       "      <td>No Nobel Prize was awarded this year. The priz...</td>\n",
       "      <td>0</td>\n",
       "      <td>[]</td>\n",
       "      <td>The Nobel Prize in Physics</td>\n",
       "      <td>1916</td>\n",
       "    </tr>\n",
       "    <tr>\n",
       "      <th>561</th>\n",
       "      <td>No Nobel Prize was awarded this year. The priz...</td>\n",
       "      <td>0</td>\n",
       "      <td>[]</td>\n",
       "      <td>The Nobel Prize in Chemistry</td>\n",
       "      <td>1916</td>\n",
       "    </tr>\n",
       "    <tr>\n",
       "      <th>562</th>\n",
       "      <td>No Nobel Prize was awarded this year. The priz...</td>\n",
       "      <td>0</td>\n",
       "      <td>[]</td>\n",
       "      <td>The Nobel Prize in Physiology or Medicine</td>\n",
       "      <td>1916</td>\n",
       "    </tr>\n",
       "    <tr>\n",
       "      <th>564</th>\n",
       "      <td>No Nobel Prize was awarded this year. The priz...</td>\n",
       "      <td>0</td>\n",
       "      <td>[]</td>\n",
       "      <td>The Nobel Peace Prize</td>\n",
       "      <td>1916</td>\n",
       "    </tr>\n",
       "    <tr>\n",
       "      <th>567</th>\n",
       "      <td>No Nobel Prize was awarded this year. The priz...</td>\n",
       "      <td>0</td>\n",
       "      <td>[]</td>\n",
       "      <td>The Nobel Prize in Physiology or Medicine</td>\n",
       "      <td>1915</td>\n",
       "    </tr>\n",
       "    <tr>\n",
       "      <th>569</th>\n",
       "      <td>No Nobel Prize was awarded this year. The priz...</td>\n",
       "      <td>0</td>\n",
       "      <td>[]</td>\n",
       "      <td>The Nobel Peace Prize</td>\n",
       "      <td>1915</td>\n",
       "    </tr>\n",
       "    <tr>\n",
       "      <th>573</th>\n",
       "      <td>No Nobel Prize was awarded this year. The priz...</td>\n",
       "      <td>0</td>\n",
       "      <td>[]</td>\n",
       "      <td>The Nobel Prize in Literature</td>\n",
       "      <td>1914</td>\n",
       "    </tr>\n",
       "    <tr>\n",
       "      <th>574</th>\n",
       "      <td>No Nobel Prize was awarded this year. The priz...</td>\n",
       "      <td>0</td>\n",
       "      <td>[]</td>\n",
       "      <td>The Nobel Peace Prize</td>\n",
       "      <td>1914</td>\n",
       "    </tr>\n",
       "  </tbody>\n",
       "</table>\n",
       "</div>"
      ],
      "text/plain": [
       "                                            motivation  num_recipients  \\\n",
       "0    The 2018 Nobel Prize in Physics has not been a...               0   \n",
       "1    The 2018 Nobel Prize in Chemistry has not been...               0   \n",
       "2    The 2018 Nobel Prize in Physiology or Medicine...               0   \n",
       "3    The 2018 Nobel Prize in Literature has been po...               0   \n",
       "4    The 2018 Nobel Peace Prize has not been awarde...               0   \n",
       "5    The 2018 Prize in Economic Sciences has not be...               0   \n",
       "280  No Nobel Prize was awarded this year. The priz...               0   \n",
       "309  No Nobel Prize was awarded this year. The priz...               0   \n",
       "314  No Nobel Prize was awarded this year. The priz...               0   \n",
       "364  No Nobel Prize was awarded this year. The priz...               0   \n",
       "369  No Nobel Prize was awarded this year. The priz...               0   \n",
       "404  No Nobel Prize was awarded this year. The priz...               0   \n",
       "428  No Nobel Prize was awarded this year. The priz...               0   \n",
       "429  No Nobel Prize was awarded this year. The priz...               0   \n",
       "430  No Nobel Prize was awarded this year. The priz...               0   \n",
       "431  No Nobel Prize was awarded this year. The priz...               0   \n",
       "432  No Nobel Prize was awarded this year. The priz...               0   \n",
       "433  No Nobel Prize was awarded this year. The priz...               0   \n",
       "434  No Nobel Prize was awarded this year. The priz...               0   \n",
       "435  No Nobel Prize was awarded this year. The priz...               0   \n",
       "436  No Nobel Prize was awarded this year. The priz...               0   \n",
       "437  No Nobel Prize was awarded this year. The priz...               0   \n",
       "438  No Nobel Prize was awarded this year. The priz...               0   \n",
       "439  No Nobel Prize was awarded this year. The priz...               0   \n",
       "440  No Nobel Prize was awarded this year. The priz...               0   \n",
       "441  No Nobel Prize was awarded this year. The priz...               0   \n",
       "442  No Nobel Prize was awarded this year. The priz...               0   \n",
       "443  No Nobel Prize was awarded this year. The priz...               0   \n",
       "444  No Nobel Prize was awarded this year. The priz...               0   \n",
       "449  No Nobel Prize was awarded this year. The priz...               0   \n",
       "468  No Nobel Prize was awarded this year. The priz...               0   \n",
       "470  No Nobel Prize was awarded this year. The priz...               0   \n",
       "476  No Nobel Prize was awarded this year. The priz...               0   \n",
       "484  No Nobel Prize was awarded this year. The priz...               0   \n",
       "485  No Nobel Prize was awarded this year. The priz...               0   \n",
       "504  No Nobel Prize was awarded this year. The priz...               0   \n",
       "517  No Nobel Prize was awarded this year. The priz...               0   \n",
       "521  No Nobel Prize was awarded this year. The priz...               0   \n",
       "524  No Nobel Prize was awarded this year. The priz...               0   \n",
       "529  No Nobel Prize was awarded this year. The priz...               0   \n",
       "537  No Nobel Prize was awarded this year. The priz...               0   \n",
       "546  No Nobel Prize was awarded this year. The priz...               0   \n",
       "552  No Nobel Prize was awarded this year. The priz...               0   \n",
       "553  No Nobel Prize was awarded this year. The priz...               0   \n",
       "554  No Nobel Prize was awarded this year. The priz...               0   \n",
       "556  No Nobel Prize was awarded this year. The priz...               0   \n",
       "557  No Nobel Prize was awarded this year. The priz...               0   \n",
       "560  No Nobel Prize was awarded this year. The priz...               0   \n",
       "561  No Nobel Prize was awarded this year. The priz...               0   \n",
       "562  No Nobel Prize was awarded this year. The priz...               0   \n",
       "564  No Nobel Prize was awarded this year. The priz...               0   \n",
       "567  No Nobel Prize was awarded this year. The priz...               0   \n",
       "569  No Nobel Prize was awarded this year. The priz...               0   \n",
       "573  No Nobel Prize was awarded this year. The priz...               0   \n",
       "574  No Nobel Prize was awarded this year. The priz...               0   \n",
       "\n",
       "    recipients                                              title  year  \n",
       "0           []                         The Nobel Prize in Physics  2018  \n",
       "1           []                       The Nobel Prize in Chemistry  2018  \n",
       "2           []          The Nobel Prize in Physiology or Medicine  2018  \n",
       "3           []                      The Nobel Prize in Literature  2018  \n",
       "4           []                              The Nobel Peace Prize  2018  \n",
       "5           []  The Sveriges Riksbank Prize in Economic Scienc...  2018  \n",
       "280         []                              The Nobel Peace Prize  1972  \n",
       "309         []                              The Nobel Peace Prize  1967  \n",
       "314         []                              The Nobel Peace Prize  1966  \n",
       "364         []                              The Nobel Peace Prize  1956  \n",
       "369         []                              The Nobel Peace Prize  1955  \n",
       "404         []                              The Nobel Peace Prize  1948  \n",
       "428         []                      The Nobel Prize in Literature  1943  \n",
       "429         []                              The Nobel Peace Prize  1943  \n",
       "430         []                         The Nobel Prize in Physics  1942  \n",
       "431         []                       The Nobel Prize in Chemistry  1942  \n",
       "432         []          The Nobel Prize in Physiology or Medicine  1942  \n",
       "433         []                      The Nobel Prize in Literature  1942  \n",
       "434         []                              The Nobel Peace Prize  1942  \n",
       "435         []                         The Nobel Prize in Physics  1941  \n",
       "436         []                       The Nobel Prize in Chemistry  1941  \n",
       "437         []          The Nobel Prize in Physiology or Medicine  1941  \n",
       "438         []                      The Nobel Prize in Literature  1941  \n",
       "439         []                              The Nobel Peace Prize  1941  \n",
       "440         []                         The Nobel Prize in Physics  1940  \n",
       "441         []                       The Nobel Prize in Chemistry  1940  \n",
       "442         []          The Nobel Prize in Physiology or Medicine  1940  \n",
       "443         []                      The Nobel Prize in Literature  1940  \n",
       "444         []                              The Nobel Peace Prize  1940  \n",
       "449         []                              The Nobel Peace Prize  1939  \n",
       "468         []                      The Nobel Prize in Literature  1935  \n",
       "470         []                         The Nobel Prize in Physics  1934  \n",
       "476         []                       The Nobel Prize in Chemistry  1933  \n",
       "484         []                              The Nobel Peace Prize  1932  \n",
       "485         []                         The Nobel Prize in Physics  1931  \n",
       "504         []                              The Nobel Peace Prize  1928  \n",
       "517         []          The Nobel Prize in Physiology or Medicine  1925  \n",
       "521         []                       The Nobel Prize in Chemistry  1924  \n",
       "524         []                              The Nobel Peace Prize  1924  \n",
       "529         []                              The Nobel Peace Prize  1923  \n",
       "537         []          The Nobel Prize in Physiology or Medicine  1921  \n",
       "546         []                       The Nobel Prize in Chemistry  1919  \n",
       "552         []          The Nobel Prize in Physiology or Medicine  1918  \n",
       "553         []                      The Nobel Prize in Literature  1918  \n",
       "554         []                              The Nobel Peace Prize  1918  \n",
       "556         []                       The Nobel Prize in Chemistry  1917  \n",
       "557         []          The Nobel Prize in Physiology or Medicine  1917  \n",
       "560         []                         The Nobel Prize in Physics  1916  \n",
       "561         []                       The Nobel Prize in Chemistry  1916  \n",
       "562         []          The Nobel Prize in Physiology or Medicine  1916  \n",
       "564         []                              The Nobel Peace Prize  1916  \n",
       "567         []          The Nobel Prize in Physiology or Medicine  1915  \n",
       "569         []                              The Nobel Peace Prize  1915  \n",
       "573         []                      The Nobel Prize in Literature  1914  \n",
       "574         []                              The Nobel Peace Prize  1914  "
      ]
     },
     "execution_count": 50,
     "metadata": {},
     "output_type": "execute_result"
    }
   ],
   "source": [
    "df_awards_raw[df_awards_raw.num_recipients == 0]"
   ]
  },
  {
   "cell_type": "markdown",
   "metadata": {},
   "source": [
    "Ok: 2018 awards have no recipients because this is a 2018 archived version of nobel prize webpage. Some past years lack awards because there actually were none that year. Let's keep only meaningful data:"
   ]
  },
  {
   "cell_type": "code",
   "execution_count": 51,
   "metadata": {},
   "outputs": [
    {
     "name": "stdout",
     "output_type": "stream",
     "text": [
      "<class 'pandas.core.frame.DataFrame'>\n",
      "Int64Index: 634 entries, 6 to 639\n",
      "Data columns (total 5 columns):\n",
      "motivation        565 non-null object\n",
      "num_recipients    634 non-null int64\n",
      "recipients        634 non-null object\n",
      "title             634 non-null object\n",
      "year              634 non-null int64\n",
      "dtypes: int64(2), object(3)\n",
      "memory usage: 29.7+ KB\n"
     ]
    }
   ],
   "source": [
    "df_awards_past = df_awards_raw[df_awards_raw.year != 2018]\n",
    "df_awards_past.info()"
   ]
  },
  {
   "cell_type": "markdown",
   "metadata": {},
   "source": [
    "Hm, `motivation` has a different number of items... why?"
   ]
  },
  {
   "cell_type": "code",
   "execution_count": 52,
   "metadata": {
    "collapsed": true,
    "jupyter": {
     "outputs_hidden": true
    }
   },
   "outputs": [
    {
     "data": {
      "text/html": [
       "<div>\n",
       "<style scoped>\n",
       "    .dataframe tbody tr th:only-of-type {\n",
       "        vertical-align: middle;\n",
       "    }\n",
       "\n",
       "    .dataframe tbody tr th {\n",
       "        vertical-align: top;\n",
       "    }\n",
       "\n",
       "    .dataframe thead th {\n",
       "        text-align: right;\n",
       "    }\n",
       "</style>\n",
       "<table border=\"1\" class=\"dataframe\">\n",
       "  <thead>\n",
       "    <tr style=\"text-align: right;\">\n",
       "      <th></th>\n",
       "      <th>motivation</th>\n",
       "      <th>num_recipients</th>\n",
       "      <th>recipients</th>\n",
       "      <th>title</th>\n",
       "      <th>year</th>\n",
       "    </tr>\n",
       "  </thead>\n",
       "  <tbody>\n",
       "    <tr>\n",
       "      <th>178</th>\n",
       "      <td>None</td>\n",
       "      <td>1</td>\n",
       "      <td>[The 14th Dalai Lama (Tenzin Gyatso) ]</td>\n",
       "      <td>The Nobel Peace Prize</td>\n",
       "      <td>1989</td>\n",
       "    </tr>\n",
       "    <tr>\n",
       "      <th>184</th>\n",
       "      <td>None</td>\n",
       "      <td>1</td>\n",
       "      <td>[United Nations Peacekeeping Forces ]</td>\n",
       "      <td>The Nobel Peace Prize</td>\n",
       "      <td>1988</td>\n",
       "    </tr>\n",
       "    <tr>\n",
       "      <th>196</th>\n",
       "      <td>None</td>\n",
       "      <td>1</td>\n",
       "      <td>[Elie Wiesel]</td>\n",
       "      <td>The Nobel Peace Prize</td>\n",
       "      <td>1986</td>\n",
       "    </tr>\n",
       "    <tr>\n",
       "      <th>202</th>\n",
       "      <td>None</td>\n",
       "      <td>1</td>\n",
       "      <td>[International Physicians for the Prevention o...</td>\n",
       "      <td>The Nobel Peace Prize</td>\n",
       "      <td>1985</td>\n",
       "    </tr>\n",
       "    <tr>\n",
       "      <th>208</th>\n",
       "      <td>None</td>\n",
       "      <td>1</td>\n",
       "      <td>[Desmond Mpilo Tutu]</td>\n",
       "      <td>The Nobel Peace Prize</td>\n",
       "      <td>1984</td>\n",
       "    </tr>\n",
       "    <tr>\n",
       "      <th>214</th>\n",
       "      <td>None</td>\n",
       "      <td>1</td>\n",
       "      <td>[Lech Walesa]</td>\n",
       "      <td>The Nobel Peace Prize</td>\n",
       "      <td>1983</td>\n",
       "    </tr>\n",
       "    <tr>\n",
       "      <th>220</th>\n",
       "      <td>None</td>\n",
       "      <td>2</td>\n",
       "      <td>[Alva Myrdal, Alfonso García Robles]</td>\n",
       "      <td>The Nobel Peace Prize</td>\n",
       "      <td>1982</td>\n",
       "    </tr>\n",
       "    <tr>\n",
       "      <th>226</th>\n",
       "      <td>None</td>\n",
       "      <td>1</td>\n",
       "      <td>[Office of the United Nations High Commissione...</td>\n",
       "      <td>The Nobel Peace Prize</td>\n",
       "      <td>1981</td>\n",
       "    </tr>\n",
       "    <tr>\n",
       "      <th>232</th>\n",
       "      <td>None</td>\n",
       "      <td>1</td>\n",
       "      <td>[Adolfo Pérez Esquivel]</td>\n",
       "      <td>The Nobel Peace Prize</td>\n",
       "      <td>1980</td>\n",
       "    </tr>\n",
       "    <tr>\n",
       "      <th>238</th>\n",
       "      <td>None</td>\n",
       "      <td>1</td>\n",
       "      <td>[Mother Teresa ]</td>\n",
       "      <td>The Nobel Peace Prize</td>\n",
       "      <td>1979</td>\n",
       "    </tr>\n",
       "    <tr>\n",
       "      <th>244</th>\n",
       "      <td>None</td>\n",
       "      <td>2</td>\n",
       "      <td>[Mohamed Anwar al-Sadat, Menachem Begin]</td>\n",
       "      <td>The Nobel Peace Prize</td>\n",
       "      <td>1978</td>\n",
       "    </tr>\n",
       "    <tr>\n",
       "      <th>250</th>\n",
       "      <td>None</td>\n",
       "      <td>1</td>\n",
       "      <td>[Amnesty International ]</td>\n",
       "      <td>The Nobel Peace Prize</td>\n",
       "      <td>1977</td>\n",
       "    </tr>\n",
       "    <tr>\n",
       "      <th>256</th>\n",
       "      <td>None</td>\n",
       "      <td>2</td>\n",
       "      <td>[Betty Williams, Mairead Corrigan]</td>\n",
       "      <td>The Nobel Peace Prize</td>\n",
       "      <td>1976</td>\n",
       "    </tr>\n",
       "    <tr>\n",
       "      <th>262</th>\n",
       "      <td>None</td>\n",
       "      <td>1</td>\n",
       "      <td>[Andrei Dmitrievich Sakharov]</td>\n",
       "      <td>The Nobel Peace Prize</td>\n",
       "      <td>1975</td>\n",
       "    </tr>\n",
       "    <tr>\n",
       "      <th>268</th>\n",
       "      <td>None</td>\n",
       "      <td>2</td>\n",
       "      <td>[Seán MacBride, Eisaku Sato]</td>\n",
       "      <td>The Nobel Peace Prize</td>\n",
       "      <td>1974</td>\n",
       "    </tr>\n",
       "    <tr>\n",
       "      <th>274</th>\n",
       "      <td>None</td>\n",
       "      <td>2</td>\n",
       "      <td>[Henry A. Kissinger, Le Duc Tho ]</td>\n",
       "      <td>The Nobel Peace Prize</td>\n",
       "      <td>1973</td>\n",
       "    </tr>\n",
       "    <tr>\n",
       "      <th>286</th>\n",
       "      <td>None</td>\n",
       "      <td>1</td>\n",
       "      <td>[Willy Brandt]</td>\n",
       "      <td>The Nobel Peace Prize</td>\n",
       "      <td>1971</td>\n",
       "    </tr>\n",
       "    <tr>\n",
       "      <th>292</th>\n",
       "      <td>None</td>\n",
       "      <td>1</td>\n",
       "      <td>[Norman E. Borlaug]</td>\n",
       "      <td>The Nobel Peace Prize</td>\n",
       "      <td>1970</td>\n",
       "    </tr>\n",
       "    <tr>\n",
       "      <th>298</th>\n",
       "      <td>None</td>\n",
       "      <td>1</td>\n",
       "      <td>[International Labour Organization (I.L.O.) ]</td>\n",
       "      <td>The Nobel Peace Prize</td>\n",
       "      <td>1969</td>\n",
       "    </tr>\n",
       "    <tr>\n",
       "      <th>304</th>\n",
       "      <td>None</td>\n",
       "      <td>1</td>\n",
       "      <td>[René Cassin]</td>\n",
       "      <td>The Nobel Peace Prize</td>\n",
       "      <td>1968</td>\n",
       "    </tr>\n",
       "    <tr>\n",
       "      <th>319</th>\n",
       "      <td>None</td>\n",
       "      <td>1</td>\n",
       "      <td>[United Nations Children’s Fund (UNICEF) ]</td>\n",
       "      <td>The Nobel Peace Prize</td>\n",
       "      <td>1965</td>\n",
       "    </tr>\n",
       "    <tr>\n",
       "      <th>324</th>\n",
       "      <td>None</td>\n",
       "      <td>1</td>\n",
       "      <td>[Martin Luther King Jr.]</td>\n",
       "      <td>The Nobel Peace Prize</td>\n",
       "      <td>1964</td>\n",
       "    </tr>\n",
       "    <tr>\n",
       "      <th>329</th>\n",
       "      <td>None</td>\n",
       "      <td>2</td>\n",
       "      <td>[Comité international de la Croix Rouge (Inter...</td>\n",
       "      <td>The Nobel Peace Prize</td>\n",
       "      <td>1963</td>\n",
       "    </tr>\n",
       "    <tr>\n",
       "      <th>334</th>\n",
       "      <td>None</td>\n",
       "      <td>1</td>\n",
       "      <td>[Linus Carl Pauling]</td>\n",
       "      <td>The Nobel Peace Prize</td>\n",
       "      <td>1962</td>\n",
       "    </tr>\n",
       "    <tr>\n",
       "      <th>339</th>\n",
       "      <td>None</td>\n",
       "      <td>1</td>\n",
       "      <td>[Dag Hjalmar Agne Carl Hammarskjöld]</td>\n",
       "      <td>The Nobel Peace Prize</td>\n",
       "      <td>1961</td>\n",
       "    </tr>\n",
       "    <tr>\n",
       "      <th>344</th>\n",
       "      <td>None</td>\n",
       "      <td>1</td>\n",
       "      <td>[Albert John Lutuli]</td>\n",
       "      <td>The Nobel Peace Prize</td>\n",
       "      <td>1960</td>\n",
       "    </tr>\n",
       "    <tr>\n",
       "      <th>349</th>\n",
       "      <td>None</td>\n",
       "      <td>1</td>\n",
       "      <td>[Philip J. Noel-Baker]</td>\n",
       "      <td>The Nobel Peace Prize</td>\n",
       "      <td>1959</td>\n",
       "    </tr>\n",
       "    <tr>\n",
       "      <th>354</th>\n",
       "      <td>None</td>\n",
       "      <td>1</td>\n",
       "      <td>[Georges Pire]</td>\n",
       "      <td>The Nobel Peace Prize</td>\n",
       "      <td>1958</td>\n",
       "    </tr>\n",
       "    <tr>\n",
       "      <th>359</th>\n",
       "      <td>None</td>\n",
       "      <td>1</td>\n",
       "      <td>[Lester Bowles Pearson]</td>\n",
       "      <td>The Nobel Peace Prize</td>\n",
       "      <td>1957</td>\n",
       "    </tr>\n",
       "    <tr>\n",
       "      <th>374</th>\n",
       "      <td>None</td>\n",
       "      <td>1</td>\n",
       "      <td>[Office of the United Nations High Commissione...</td>\n",
       "      <td>The Nobel Peace Prize</td>\n",
       "      <td>1954</td>\n",
       "    </tr>\n",
       "    <tr>\n",
       "      <th>...</th>\n",
       "      <td>...</td>\n",
       "      <td>...</td>\n",
       "      <td>...</td>\n",
       "      <td>...</td>\n",
       "      <td>...</td>\n",
       "    </tr>\n",
       "    <tr>\n",
       "      <th>454</th>\n",
       "      <td>None</td>\n",
       "      <td>1</td>\n",
       "      <td>[Office international Nansen pour les Réfugiés...</td>\n",
       "      <td>The Nobel Peace Prize</td>\n",
       "      <td>1938</td>\n",
       "    </tr>\n",
       "    <tr>\n",
       "      <th>459</th>\n",
       "      <td>None</td>\n",
       "      <td>1</td>\n",
       "      <td>[Cecil of Chelwood, Viscount (Lord Edgar Alger...</td>\n",
       "      <td>The Nobel Peace Prize</td>\n",
       "      <td>1937</td>\n",
       "    </tr>\n",
       "    <tr>\n",
       "      <th>464</th>\n",
       "      <td>None</td>\n",
       "      <td>1</td>\n",
       "      <td>[Carlos Saavedra Lamas]</td>\n",
       "      <td>The Nobel Peace Prize</td>\n",
       "      <td>1936</td>\n",
       "    </tr>\n",
       "    <tr>\n",
       "      <th>469</th>\n",
       "      <td>None</td>\n",
       "      <td>1</td>\n",
       "      <td>[Carl von Ossietzky]</td>\n",
       "      <td>The Nobel Peace Prize</td>\n",
       "      <td>1935</td>\n",
       "    </tr>\n",
       "    <tr>\n",
       "      <th>474</th>\n",
       "      <td>None</td>\n",
       "      <td>1</td>\n",
       "      <td>[Arthur Henderson]</td>\n",
       "      <td>The Nobel Peace Prize</td>\n",
       "      <td>1934</td>\n",
       "    </tr>\n",
       "    <tr>\n",
       "      <th>479</th>\n",
       "      <td>None</td>\n",
       "      <td>1</td>\n",
       "      <td>[Sir Norman Angell (Ralph Lane)]</td>\n",
       "      <td>The Nobel Peace Prize</td>\n",
       "      <td>1933</td>\n",
       "    </tr>\n",
       "    <tr>\n",
       "      <th>489</th>\n",
       "      <td>None</td>\n",
       "      <td>2</td>\n",
       "      <td>[Jane Addams, Nicholas Murray Butler]</td>\n",
       "      <td>The Nobel Peace Prize</td>\n",
       "      <td>1931</td>\n",
       "    </tr>\n",
       "    <tr>\n",
       "      <th>494</th>\n",
       "      <td>None</td>\n",
       "      <td>1</td>\n",
       "      <td>[Lars Olof Jonathan (Nathan) Söderblom]</td>\n",
       "      <td>The Nobel Peace Prize</td>\n",
       "      <td>1930</td>\n",
       "    </tr>\n",
       "    <tr>\n",
       "      <th>499</th>\n",
       "      <td>None</td>\n",
       "      <td>1</td>\n",
       "      <td>[Frank Billings Kellogg]</td>\n",
       "      <td>The Nobel Peace Prize</td>\n",
       "      <td>1929</td>\n",
       "    </tr>\n",
       "    <tr>\n",
       "      <th>509</th>\n",
       "      <td>None</td>\n",
       "      <td>2</td>\n",
       "      <td>[Ferdinand Buisson, Ludwig Quidde]</td>\n",
       "      <td>The Nobel Peace Prize</td>\n",
       "      <td>1927</td>\n",
       "    </tr>\n",
       "    <tr>\n",
       "      <th>514</th>\n",
       "      <td>None</td>\n",
       "      <td>2</td>\n",
       "      <td>[Aristide Briand, Gustav Stresemann]</td>\n",
       "      <td>The Nobel Peace Prize</td>\n",
       "      <td>1926</td>\n",
       "    </tr>\n",
       "    <tr>\n",
       "      <th>519</th>\n",
       "      <td>None</td>\n",
       "      <td>2</td>\n",
       "      <td>[Sir Austen Chamberlain, Charles Gates Dawes]</td>\n",
       "      <td>The Nobel Peace Prize</td>\n",
       "      <td>1925</td>\n",
       "    </tr>\n",
       "    <tr>\n",
       "      <th>534</th>\n",
       "      <td>None</td>\n",
       "      <td>1</td>\n",
       "      <td>[Fridtjof Nansen]</td>\n",
       "      <td>The Nobel Peace Prize</td>\n",
       "      <td>1922</td>\n",
       "    </tr>\n",
       "    <tr>\n",
       "      <th>539</th>\n",
       "      <td>None</td>\n",
       "      <td>2</td>\n",
       "      <td>[Karl Hjalmar Branting, Christian Lous Lange]</td>\n",
       "      <td>The Nobel Peace Prize</td>\n",
       "      <td>1921</td>\n",
       "    </tr>\n",
       "    <tr>\n",
       "      <th>544</th>\n",
       "      <td>None</td>\n",
       "      <td>1</td>\n",
       "      <td>[Léon Victor Auguste Bourgeois]</td>\n",
       "      <td>The Nobel Peace Prize</td>\n",
       "      <td>1920</td>\n",
       "    </tr>\n",
       "    <tr>\n",
       "      <th>549</th>\n",
       "      <td>None</td>\n",
       "      <td>1</td>\n",
       "      <td>[Thomas Woodrow Wilson]</td>\n",
       "      <td>The Nobel Peace Prize</td>\n",
       "      <td>1919</td>\n",
       "    </tr>\n",
       "    <tr>\n",
       "      <th>559</th>\n",
       "      <td>None</td>\n",
       "      <td>1</td>\n",
       "      <td>[Comité international de la Croix Rouge (Inter...</td>\n",
       "      <td>The Nobel Peace Prize</td>\n",
       "      <td>1917</td>\n",
       "    </tr>\n",
       "    <tr>\n",
       "      <th>579</th>\n",
       "      <td>None</td>\n",
       "      <td>1</td>\n",
       "      <td>[Henri La Fontaine]</td>\n",
       "      <td>The Nobel Peace Prize</td>\n",
       "      <td>1913</td>\n",
       "    </tr>\n",
       "    <tr>\n",
       "      <th>584</th>\n",
       "      <td>None</td>\n",
       "      <td>1</td>\n",
       "      <td>[Elihu Root]</td>\n",
       "      <td>The Nobel Peace Prize</td>\n",
       "      <td>1912</td>\n",
       "    </tr>\n",
       "    <tr>\n",
       "      <th>589</th>\n",
       "      <td>None</td>\n",
       "      <td>2</td>\n",
       "      <td>[Tobias Michael Carel Asser, Alfred Hermann Fr...</td>\n",
       "      <td>The Nobel Peace Prize</td>\n",
       "      <td>1911</td>\n",
       "    </tr>\n",
       "    <tr>\n",
       "      <th>594</th>\n",
       "      <td>None</td>\n",
       "      <td>1</td>\n",
       "      <td>[Bureau international permanent de la Paix (Pe...</td>\n",
       "      <td>The Nobel Peace Prize</td>\n",
       "      <td>1910</td>\n",
       "    </tr>\n",
       "    <tr>\n",
       "      <th>599</th>\n",
       "      <td>None</td>\n",
       "      <td>2</td>\n",
       "      <td>[Auguste Marie François Beernaert, Paul Henri ...</td>\n",
       "      <td>The Nobel Peace Prize</td>\n",
       "      <td>1909</td>\n",
       "    </tr>\n",
       "    <tr>\n",
       "      <th>604</th>\n",
       "      <td>None</td>\n",
       "      <td>2</td>\n",
       "      <td>[Klas Pontus Arnoldson, Fredrik Bajer]</td>\n",
       "      <td>The Nobel Peace Prize</td>\n",
       "      <td>1908</td>\n",
       "    </tr>\n",
       "    <tr>\n",
       "      <th>609</th>\n",
       "      <td>None</td>\n",
       "      <td>2</td>\n",
       "      <td>[Ernesto Teodoro Moneta, Louis Renault]</td>\n",
       "      <td>The Nobel Peace Prize</td>\n",
       "      <td>1907</td>\n",
       "    </tr>\n",
       "    <tr>\n",
       "      <th>614</th>\n",
       "      <td>None</td>\n",
       "      <td>1</td>\n",
       "      <td>[Theodore Roosevelt]</td>\n",
       "      <td>The Nobel Peace Prize</td>\n",
       "      <td>1906</td>\n",
       "    </tr>\n",
       "    <tr>\n",
       "      <th>619</th>\n",
       "      <td>None</td>\n",
       "      <td>1</td>\n",
       "      <td>[Baroness Bertha Sophie Felicita von Suttner, ...</td>\n",
       "      <td>The Nobel Peace Prize</td>\n",
       "      <td>1905</td>\n",
       "    </tr>\n",
       "    <tr>\n",
       "      <th>624</th>\n",
       "      <td>None</td>\n",
       "      <td>1</td>\n",
       "      <td>[Institut de droit international (Institute of...</td>\n",
       "      <td>The Nobel Peace Prize</td>\n",
       "      <td>1904</td>\n",
       "    </tr>\n",
       "    <tr>\n",
       "      <th>629</th>\n",
       "      <td>None</td>\n",
       "      <td>1</td>\n",
       "      <td>[William Randal Cremer]</td>\n",
       "      <td>The Nobel Peace Prize</td>\n",
       "      <td>1903</td>\n",
       "    </tr>\n",
       "    <tr>\n",
       "      <th>634</th>\n",
       "      <td>None</td>\n",
       "      <td>2</td>\n",
       "      <td>[Élie Ducommun, Charles Albert Gobat]</td>\n",
       "      <td>The Nobel Peace Prize</td>\n",
       "      <td>1902</td>\n",
       "    </tr>\n",
       "    <tr>\n",
       "      <th>639</th>\n",
       "      <td>None</td>\n",
       "      <td>2</td>\n",
       "      <td>[Jean Henry Dunant, Frédéric Passy]</td>\n",
       "      <td>The Nobel Peace Prize</td>\n",
       "      <td>1901</td>\n",
       "    </tr>\n",
       "  </tbody>\n",
       "</table>\n",
       "<p>69 rows × 5 columns</p>\n",
       "</div>"
      ],
      "text/plain": [
       "    motivation  num_recipients  \\\n",
       "178       None               1   \n",
       "184       None               1   \n",
       "196       None               1   \n",
       "202       None               1   \n",
       "208       None               1   \n",
       "214       None               1   \n",
       "220       None               2   \n",
       "226       None               1   \n",
       "232       None               1   \n",
       "238       None               1   \n",
       "244       None               2   \n",
       "250       None               1   \n",
       "256       None               2   \n",
       "262       None               1   \n",
       "268       None               2   \n",
       "274       None               2   \n",
       "286       None               1   \n",
       "292       None               1   \n",
       "298       None               1   \n",
       "304       None               1   \n",
       "319       None               1   \n",
       "324       None               1   \n",
       "329       None               2   \n",
       "334       None               1   \n",
       "339       None               1   \n",
       "344       None               1   \n",
       "349       None               1   \n",
       "354       None               1   \n",
       "359       None               1   \n",
       "374       None               1   \n",
       "..         ...             ...   \n",
       "454       None               1   \n",
       "459       None               1   \n",
       "464       None               1   \n",
       "469       None               1   \n",
       "474       None               1   \n",
       "479       None               1   \n",
       "489       None               2   \n",
       "494       None               1   \n",
       "499       None               1   \n",
       "509       None               2   \n",
       "514       None               2   \n",
       "519       None               2   \n",
       "534       None               1   \n",
       "539       None               2   \n",
       "544       None               1   \n",
       "549       None               1   \n",
       "559       None               1   \n",
       "579       None               1   \n",
       "584       None               1   \n",
       "589       None               2   \n",
       "594       None               1   \n",
       "599       None               2   \n",
       "604       None               2   \n",
       "609       None               2   \n",
       "614       None               1   \n",
       "619       None               1   \n",
       "624       None               1   \n",
       "629       None               1   \n",
       "634       None               2   \n",
       "639       None               2   \n",
       "\n",
       "                                            recipients                  title  \\\n",
       "178             [The 14th Dalai Lama (Tenzin Gyatso) ]  The Nobel Peace Prize   \n",
       "184              [United Nations Peacekeeping Forces ]  The Nobel Peace Prize   \n",
       "196                                      [Elie Wiesel]  The Nobel Peace Prize   \n",
       "202  [International Physicians for the Prevention o...  The Nobel Peace Prize   \n",
       "208                               [Desmond Mpilo Tutu]  The Nobel Peace Prize   \n",
       "214                                      [Lech Walesa]  The Nobel Peace Prize   \n",
       "220               [Alva Myrdal, Alfonso García Robles]  The Nobel Peace Prize   \n",
       "226  [Office of the United Nations High Commissione...  The Nobel Peace Prize   \n",
       "232                            [Adolfo Pérez Esquivel]  The Nobel Peace Prize   \n",
       "238                                   [Mother Teresa ]  The Nobel Peace Prize   \n",
       "244           [Mohamed Anwar al-Sadat, Menachem Begin]  The Nobel Peace Prize   \n",
       "250                           [Amnesty International ]  The Nobel Peace Prize   \n",
       "256                 [Betty Williams, Mairead Corrigan]  The Nobel Peace Prize   \n",
       "262                      [Andrei Dmitrievich Sakharov]  The Nobel Peace Prize   \n",
       "268                       [Seán MacBride, Eisaku Sato]  The Nobel Peace Prize   \n",
       "274                  [Henry A. Kissinger, Le Duc Tho ]  The Nobel Peace Prize   \n",
       "286                                     [Willy Brandt]  The Nobel Peace Prize   \n",
       "292                                [Norman E. Borlaug]  The Nobel Peace Prize   \n",
       "298      [International Labour Organization (I.L.O.) ]  The Nobel Peace Prize   \n",
       "304                                      [René Cassin]  The Nobel Peace Prize   \n",
       "319         [United Nations Children’s Fund (UNICEF) ]  The Nobel Peace Prize   \n",
       "324                           [Martin Luther King Jr.]  The Nobel Peace Prize   \n",
       "329  [Comité international de la Croix Rouge (Inter...  The Nobel Peace Prize   \n",
       "334                               [Linus Carl Pauling]  The Nobel Peace Prize   \n",
       "339               [Dag Hjalmar Agne Carl Hammarskjöld]  The Nobel Peace Prize   \n",
       "344                               [Albert John Lutuli]  The Nobel Peace Prize   \n",
       "349                             [Philip J. Noel-Baker]  The Nobel Peace Prize   \n",
       "354                                     [Georges Pire]  The Nobel Peace Prize   \n",
       "359                            [Lester Bowles Pearson]  The Nobel Peace Prize   \n",
       "374  [Office of the United Nations High Commissione...  The Nobel Peace Prize   \n",
       "..                                                 ...                    ...   \n",
       "454  [Office international Nansen pour les Réfugiés...  The Nobel Peace Prize   \n",
       "459  [Cecil of Chelwood, Viscount (Lord Edgar Alger...  The Nobel Peace Prize   \n",
       "464                            [Carlos Saavedra Lamas]  The Nobel Peace Prize   \n",
       "469                               [Carl von Ossietzky]  The Nobel Peace Prize   \n",
       "474                                 [Arthur Henderson]  The Nobel Peace Prize   \n",
       "479                   [Sir Norman Angell (Ralph Lane)]  The Nobel Peace Prize   \n",
       "489              [Jane Addams, Nicholas Murray Butler]  The Nobel Peace Prize   \n",
       "494            [Lars Olof Jonathan (Nathan) Söderblom]  The Nobel Peace Prize   \n",
       "499                           [Frank Billings Kellogg]  The Nobel Peace Prize   \n",
       "509                 [Ferdinand Buisson, Ludwig Quidde]  The Nobel Peace Prize   \n",
       "514               [Aristide Briand, Gustav Stresemann]  The Nobel Peace Prize   \n",
       "519      [Sir Austen Chamberlain, Charles Gates Dawes]  The Nobel Peace Prize   \n",
       "534                                  [Fridtjof Nansen]  The Nobel Peace Prize   \n",
       "539      [Karl Hjalmar Branting, Christian Lous Lange]  The Nobel Peace Prize   \n",
       "544                    [Léon Victor Auguste Bourgeois]  The Nobel Peace Prize   \n",
       "549                            [Thomas Woodrow Wilson]  The Nobel Peace Prize   \n",
       "559  [Comité international de la Croix Rouge (Inter...  The Nobel Peace Prize   \n",
       "579                                [Henri La Fontaine]  The Nobel Peace Prize   \n",
       "584                                       [Elihu Root]  The Nobel Peace Prize   \n",
       "589  [Tobias Michael Carel Asser, Alfred Hermann Fr...  The Nobel Peace Prize   \n",
       "594  [Bureau international permanent de la Paix (Pe...  The Nobel Peace Prize   \n",
       "599  [Auguste Marie François Beernaert, Paul Henri ...  The Nobel Peace Prize   \n",
       "604             [Klas Pontus Arnoldson, Fredrik Bajer]  The Nobel Peace Prize   \n",
       "609            [Ernesto Teodoro Moneta, Louis Renault]  The Nobel Peace Prize   \n",
       "614                               [Theodore Roosevelt]  The Nobel Peace Prize   \n",
       "619  [Baroness Bertha Sophie Felicita von Suttner, ...  The Nobel Peace Prize   \n",
       "624  [Institut de droit international (Institute of...  The Nobel Peace Prize   \n",
       "629                            [William Randal Cremer]  The Nobel Peace Prize   \n",
       "634              [Élie Ducommun, Charles Albert Gobat]  The Nobel Peace Prize   \n",
       "639                [Jean Henry Dunant, Frédéric Passy]  The Nobel Peace Prize   \n",
       "\n",
       "     year  \n",
       "178  1989  \n",
       "184  1988  \n",
       "196  1986  \n",
       "202  1985  \n",
       "208  1984  \n",
       "214  1983  \n",
       "220  1982  \n",
       "226  1981  \n",
       "232  1980  \n",
       "238  1979  \n",
       "244  1978  \n",
       "250  1977  \n",
       "256  1976  \n",
       "262  1975  \n",
       "268  1974  \n",
       "274  1973  \n",
       "286  1971  \n",
       "292  1970  \n",
       "298  1969  \n",
       "304  1968  \n",
       "319  1965  \n",
       "324  1964  \n",
       "329  1963  \n",
       "334  1962  \n",
       "339  1961  \n",
       "344  1960  \n",
       "349  1959  \n",
       "354  1958  \n",
       "359  1957  \n",
       "374  1954  \n",
       "..    ...  \n",
       "454  1938  \n",
       "459  1937  \n",
       "464  1936  \n",
       "469  1935  \n",
       "474  1934  \n",
       "479  1933  \n",
       "489  1931  \n",
       "494  1930  \n",
       "499  1929  \n",
       "509  1927  \n",
       "514  1926  \n",
       "519  1925  \n",
       "534  1922  \n",
       "539  1921  \n",
       "544  1920  \n",
       "549  1919  \n",
       "559  1917  \n",
       "579  1913  \n",
       "584  1912  \n",
       "589  1911  \n",
       "594  1910  \n",
       "599  1909  \n",
       "604  1908  \n",
       "609  1907  \n",
       "614  1906  \n",
       "619  1905  \n",
       "624  1904  \n",
       "629  1903  \n",
       "634  1902  \n",
       "639  1901  \n",
       "\n",
       "[69 rows x 5 columns]"
      ]
     },
     "execution_count": 52,
     "metadata": {},
     "output_type": "execute_result"
    }
   ],
   "source": [
    "df_awards_past[df_awards_past.motivation.isnull()]"
   ]
  },
  {
   "cell_type": "markdown",
   "metadata": {},
   "source": [
    "Looks like it's fine that those motivations were missing."
   ]
  },
  {
   "cell_type": "markdown",
   "metadata": {},
   "source": [
    "**Sort the awards by year.**"
   ]
  },
  {
   "cell_type": "code",
   "execution_count": 53,
   "metadata": {},
   "outputs": [
    {
     "data": {
      "text/html": [
       "<div>\n",
       "<style scoped>\n",
       "    .dataframe tbody tr th:only-of-type {\n",
       "        vertical-align: middle;\n",
       "    }\n",
       "\n",
       "    .dataframe tbody tr th {\n",
       "        vertical-align: top;\n",
       "    }\n",
       "\n",
       "    .dataframe thead th {\n",
       "        text-align: right;\n",
       "    }\n",
       "</style>\n",
       "<table border=\"1\" class=\"dataframe\">\n",
       "  <thead>\n",
       "    <tr style=\"text-align: right;\">\n",
       "      <th></th>\n",
       "      <th>motivation</th>\n",
       "      <th>num_recipients</th>\n",
       "      <th>recipients</th>\n",
       "      <th>title</th>\n",
       "      <th>year</th>\n",
       "    </tr>\n",
       "  </thead>\n",
       "  <tbody>\n",
       "    <tr>\n",
       "      <th>639</th>\n",
       "      <td>None</td>\n",
       "      <td>2</td>\n",
       "      <td>[Jean Henry Dunant, Frédéric Passy]</td>\n",
       "      <td>The Nobel Peace Prize</td>\n",
       "      <td>1901</td>\n",
       "    </tr>\n",
       "    <tr>\n",
       "      <th>635</th>\n",
       "      <td>“in recognition of the extraordinary services ...</td>\n",
       "      <td>1</td>\n",
       "      <td>[Wilhelm Conrad Röntgen]</td>\n",
       "      <td>The Nobel Prize in Physics</td>\n",
       "      <td>1901</td>\n",
       "    </tr>\n",
       "    <tr>\n",
       "      <th>638</th>\n",
       "      <td>“in special recognition of his poetic composit...</td>\n",
       "      <td>1</td>\n",
       "      <td>[Sully Prudhomme]</td>\n",
       "      <td>The Nobel Prize in Literature</td>\n",
       "      <td>1901</td>\n",
       "    </tr>\n",
       "    <tr>\n",
       "      <th>637</th>\n",
       "      <td>“for his work on serum therapy, especially its...</td>\n",
       "      <td>1</td>\n",
       "      <td>[Emil Adolf von Behring]</td>\n",
       "      <td>The Nobel Prize in Physiology or Medicine</td>\n",
       "      <td>1901</td>\n",
       "    </tr>\n",
       "    <tr>\n",
       "      <th>636</th>\n",
       "      <td>“in recognition of the extraordinary services ...</td>\n",
       "      <td>1</td>\n",
       "      <td>[Jacobus Henricus van ‘t Hoff]</td>\n",
       "      <td>The Nobel Prize in Chemistry</td>\n",
       "      <td>1901</td>\n",
       "    </tr>\n",
       "  </tbody>\n",
       "</table>\n",
       "</div>"
      ],
      "text/plain": [
       "                                            motivation  num_recipients  \\\n",
       "639                                               None               2   \n",
       "635  “in recognition of the extraordinary services ...               1   \n",
       "638  “in special recognition of his poetic composit...               1   \n",
       "637  “for his work on serum therapy, especially its...               1   \n",
       "636  “in recognition of the extraordinary services ...               1   \n",
       "\n",
       "                              recipients  \\\n",
       "639  [Jean Henry Dunant, Frédéric Passy]   \n",
       "635             [Wilhelm Conrad Röntgen]   \n",
       "638                    [Sully Prudhomme]   \n",
       "637             [Emil Adolf von Behring]   \n",
       "636       [Jacobus Henricus van ‘t Hoff]   \n",
       "\n",
       "                                         title  year  \n",
       "639                      The Nobel Peace Prize  1901  \n",
       "635                 The Nobel Prize in Physics  1901  \n",
       "638              The Nobel Prize in Literature  1901  \n",
       "637  The Nobel Prize in Physiology or Medicine  1901  \n",
       "636               The Nobel Prize in Chemistry  1901  "
      ]
     },
     "execution_count": 53,
     "metadata": {},
     "output_type": "execute_result"
    }
   ],
   "source": [
    "df_awards_past.sort_values('year').head()"
   ]
  },
  {
   "cell_type": "markdown",
   "metadata": {},
   "source": [
    "### How many awards of each type were given?"
   ]
  },
  {
   "cell_type": "code",
   "execution_count": 54,
   "metadata": {},
   "outputs": [
    {
     "data": {
      "text/plain": [
       "The Nobel Peace Prize                                                         117\n",
       "The Nobel Prize in Physics                                                    117\n",
       "The Nobel Prize in Literature                                                 117\n",
       "The Nobel Prize in Chemistry                                                  117\n",
       "The Nobel Prize in Physiology or Medicine                                     117\n",
       "The Sveriges Riksbank Prize in Economic Sciences in Memory of Alfred Nobel     49\n",
       "Name: title, dtype: int64"
      ]
     },
     "execution_count": 54,
     "metadata": {},
     "output_type": "execute_result"
    }
   ],
   "source": [
    "df_awards_past.title.value_counts()"
   ]
  },
  {
   "cell_type": "markdown",
   "metadata": {},
   "source": [
    "But wait, that includes the years the awards weren't offered."
   ]
  },
  {
   "cell_type": "code",
   "execution_count": 55,
   "metadata": {},
   "outputs": [
    {
     "data": {
      "text/plain": [
       "The Nobel Prize in Physics                                                    111\n",
       "The Nobel Prize in Literature                                                 110\n",
       "The Nobel Prize in Chemistry                                                  109\n",
       "The Nobel Prize in Physiology or Medicine                                     108\n",
       "The Nobel Peace Prize                                                          98\n",
       "The Sveriges Riksbank Prize in Economic Sciences in Memory of Alfred Nobel     49\n",
       "Name: title, dtype: int64"
      ]
     },
     "execution_count": 55,
     "metadata": {},
     "output_type": "execute_result"
    }
   ],
   "source": [
    "df_awards_actually_offered = df_awards_past[df_awards_past.num_recipients > 0]\n",
    "df_awards_actually_offered.title.value_counts()"
   ]
  },
  {
   "cell_type": "markdown",
   "metadata": {},
   "source": [
    "### When was each award first given?"
   ]
  },
  {
   "cell_type": "code",
   "execution_count": 56,
   "metadata": {},
   "outputs": [
    {
     "data": {
      "text/plain": [
       "title\n",
       "The Nobel Peace Prize                                                         1901\n",
       "The Nobel Prize in Chemistry                                                  1901\n",
       "The Nobel Prize in Literature                                                 1901\n",
       "The Nobel Prize in Physics                                                    1901\n",
       "The Nobel Prize in Physiology or Medicine                                     1901\n",
       "The Sveriges Riksbank Prize in Economic Sciences in Memory of Alfred Nobel    1969\n",
       "Name: year, dtype: int64"
      ]
     },
     "execution_count": 56,
     "metadata": {},
     "output_type": "execute_result"
    }
   ],
   "source": [
    "df_awards_past.groupby('title')['year'].min()"
   ]
  },
  {
   "cell_type": "code",
   "execution_count": 57,
   "metadata": {},
   "outputs": [
    {
     "data": {
      "text/plain": [
       "title\n",
       "The Nobel Peace Prize                                                         1901\n",
       "The Nobel Prize in Chemistry                                                  1901\n",
       "The Nobel Prize in Literature                                                 1901\n",
       "The Nobel Prize in Physics                                                    1901\n",
       "The Nobel Prize in Physiology or Medicine                                     1901\n",
       "The Sveriges Riksbank Prize in Economic Sciences in Memory of Alfred Nobel    1969\n",
       "Name: year, dtype: int64"
      ]
     },
     "execution_count": 57,
     "metadata": {},
     "output_type": "execute_result"
    }
   ],
   "source": [
    "df_awards_actually_offered.groupby('title')['year'].min()"
   ]
  },
  {
   "cell_type": "code",
   "execution_count": 58,
   "metadata": {},
   "outputs": [
    {
     "data": {
      "text/html": [
       "<div>\n",
       "<style scoped>\n",
       "    .dataframe tbody tr th:only-of-type {\n",
       "        vertical-align: middle;\n",
       "    }\n",
       "\n",
       "    .dataframe tbody tr th {\n",
       "        vertical-align: top;\n",
       "    }\n",
       "\n",
       "    .dataframe thead th {\n",
       "        text-align: right;\n",
       "    }\n",
       "</style>\n",
       "<table border=\"1\" class=\"dataframe\">\n",
       "  <thead>\n",
       "    <tr style=\"text-align: right;\">\n",
       "      <th></th>\n",
       "      <th>count</th>\n",
       "      <th>mean</th>\n",
       "      <th>std</th>\n",
       "      <th>min</th>\n",
       "      <th>25%</th>\n",
       "      <th>50%</th>\n",
       "      <th>75%</th>\n",
       "      <th>max</th>\n",
       "    </tr>\n",
       "    <tr>\n",
       "      <th>title</th>\n",
       "      <th></th>\n",
       "      <th></th>\n",
       "      <th></th>\n",
       "      <th></th>\n",
       "      <th></th>\n",
       "      <th></th>\n",
       "      <th></th>\n",
       "      <th></th>\n",
       "    </tr>\n",
       "  </thead>\n",
       "  <tbody>\n",
       "    <tr>\n",
       "      <th>The Nobel Peace Prize</th>\n",
       "      <td>98.0</td>\n",
       "      <td>1962.897959</td>\n",
       "      <td>34.909157</td>\n",
       "      <td>1901.0</td>\n",
       "      <td>1933.25</td>\n",
       "      <td>1966.5</td>\n",
       "      <td>1992.75</td>\n",
       "      <td>2017.0</td>\n",
       "    </tr>\n",
       "    <tr>\n",
       "      <th>The Nobel Prize in Chemistry</th>\n",
       "      <td>109.0</td>\n",
       "      <td>1961.201835</td>\n",
       "      <td>33.999123</td>\n",
       "      <td>1901.0</td>\n",
       "      <td>1932.00</td>\n",
       "      <td>1963.0</td>\n",
       "      <td>1990.00</td>\n",
       "      <td>2017.0</td>\n",
       "    </tr>\n",
       "    <tr>\n",
       "      <th>The Nobel Prize in Literature</th>\n",
       "      <td>110.0</td>\n",
       "      <td>1960.636364</td>\n",
       "      <td>34.221547</td>\n",
       "      <td>1901.0</td>\n",
       "      <td>1930.25</td>\n",
       "      <td>1962.5</td>\n",
       "      <td>1989.75</td>\n",
       "      <td>2017.0</td>\n",
       "    </tr>\n",
       "    <tr>\n",
       "      <th>The Nobel Prize in Physics</th>\n",
       "      <td>111.0</td>\n",
       "      <td>1960.351351</td>\n",
       "      <td>34.248198</td>\n",
       "      <td>1901.0</td>\n",
       "      <td>1929.50</td>\n",
       "      <td>1962.0</td>\n",
       "      <td>1989.50</td>\n",
       "      <td>2017.0</td>\n",
       "    </tr>\n",
       "    <tr>\n",
       "      <th>The Nobel Prize in Physiology or Medicine</th>\n",
       "      <td>108.0</td>\n",
       "      <td>1961.740741</td>\n",
       "      <td>33.744884</td>\n",
       "      <td>1901.0</td>\n",
       "      <td>1933.75</td>\n",
       "      <td>1963.5</td>\n",
       "      <td>1990.25</td>\n",
       "      <td>2017.0</td>\n",
       "    </tr>\n",
       "    <tr>\n",
       "      <th>The Sveriges Riksbank Prize in Economic Sciences in Memory of Alfred Nobel</th>\n",
       "      <td>49.0</td>\n",
       "      <td>1993.000000</td>\n",
       "      <td>14.288690</td>\n",
       "      <td>1969.0</td>\n",
       "      <td>1981.00</td>\n",
       "      <td>1993.0</td>\n",
       "      <td>2005.00</td>\n",
       "      <td>2017.0</td>\n",
       "    </tr>\n",
       "  </tbody>\n",
       "</table>\n",
       "</div>"
      ],
      "text/plain": [
       "                                                    count         mean  \\\n",
       "title                                                                    \n",
       "The Nobel Peace Prize                                98.0  1962.897959   \n",
       "The Nobel Prize in Chemistry                        109.0  1961.201835   \n",
       "The Nobel Prize in Literature                       110.0  1960.636364   \n",
       "The Nobel Prize in Physics                          111.0  1960.351351   \n",
       "The Nobel Prize in Physiology or Medicine           108.0  1961.740741   \n",
       "The Sveriges Riksbank Prize in Economic Science...   49.0  1993.000000   \n",
       "\n",
       "                                                          std     min  \\\n",
       "title                                                                   \n",
       "The Nobel Peace Prize                               34.909157  1901.0   \n",
       "The Nobel Prize in Chemistry                        33.999123  1901.0   \n",
       "The Nobel Prize in Literature                       34.221547  1901.0   \n",
       "The Nobel Prize in Physics                          34.248198  1901.0   \n",
       "The Nobel Prize in Physiology or Medicine           33.744884  1901.0   \n",
       "The Sveriges Riksbank Prize in Economic Science...  14.288690  1969.0   \n",
       "\n",
       "                                                        25%     50%      75%  \\\n",
       "title                                                                          \n",
       "The Nobel Peace Prize                               1933.25  1966.5  1992.75   \n",
       "The Nobel Prize in Chemistry                        1932.00  1963.0  1990.00   \n",
       "The Nobel Prize in Literature                       1930.25  1962.5  1989.75   \n",
       "The Nobel Prize in Physics                          1929.50  1962.0  1989.50   \n",
       "The Nobel Prize in Physiology or Medicine           1933.75  1963.5  1990.25   \n",
       "The Sveriges Riksbank Prize in Economic Science...  1981.00  1993.0  2005.00   \n",
       "\n",
       "                                                       max  \n",
       "title                                                       \n",
       "The Nobel Peace Prize                               2017.0  \n",
       "The Nobel Prize in Chemistry                        2017.0  \n",
       "The Nobel Prize in Literature                       2017.0  \n",
       "The Nobel Prize in Physics                          2017.0  \n",
       "The Nobel Prize in Physiology or Medicine           2017.0  \n",
       "The Sveriges Riksbank Prize in Economic Science...  2017.0  "
      ]
     },
     "execution_count": 58,
     "metadata": {},
     "output_type": "execute_result"
    }
   ],
   "source": [
    "df_awards_actually_offered.groupby('title').year.describe()"
   ]
  },
  {
   "cell_type": "markdown",
   "metadata": {},
   "source": [
    "## How many recipients per year?"
   ]
  },
  {
   "cell_type": "markdown",
   "metadata": {},
   "source": [
    "Let's include the years with missing awards; if we were to analyze further, we'd have to decide whether to include them."
   ]
  },
  {
   "cell_type": "code",
   "execution_count": 59,
   "metadata": {},
   "outputs": [
    {
     "data": {
      "image/png": "[encoded data removed]",
      "text/plain": [
       "<Figure size 432x288 with 1 Axes>"
      ]
     },
     "metadata": {},
     "output_type": "display_data"
    }
   ],
   "source": [
    "df_awards_past.plot.scatter(x='year', y='num_recipients', alpha=0.3);"
   ]
  },
  {
   "cell_type": "markdown",
   "metadata": {},
   "source": [
    "It's hard to see a trend when there are multiple observations per year (**why?**).\n",
    "\n",
    "Let's try looking at *total* num recipients by year."
   ]
  },
  {
   "cell_type": "code",
   "execution_count": 60,
   "metadata": {},
   "outputs": [
    {
     "data": {
      "image/png": "[encoded data removed]",
      "text/plain": [
       "<Figure size 1152x432 with 1 Axes>"
      ]
     },
     "metadata": {},
     "output_type": "display_data"
    }
   ],
   "source": [
    "plt.figure(figsize=[16,6])\n",
    "# plt.plot(df_awards_past.groupby('year').num_recipients.sum(), color = 'b', linewidth='2')\n",
    "plt.plot(df_awards_past.groupby('year').num_recipients.sum(),  '-ob', linewidth='2', alpha = 0.75)\n",
    "\n",
    "plt.title('Total Nobel Awards per year')\n",
    "plt.xlabel('Year')\n",
    "plt.ylabel('Number of recipients')\n",
    "plt.grid('on')\n",
    "plt.show();"
   ]
  },
  {
   "cell_type": "markdown",
   "metadata": {},
   "source": [
    "Check out the years 1940-43? Any comment? "
   ]
  },
  {
   "cell_type": "markdown",
   "metadata": {},
   "source": [
    "Any trends the last 25 years?"
   ]
  },
  {
   "cell_type": "code",
   "execution_count": 61,
   "metadata": {},
   "outputs": [
    {
     "data": {
      "image/png": "[encoded data removed]",
      "text/plain": [
       "<Figure size 1152x432 with 6 Axes>"
      ]
     },
     "metadata": {},
     "output_type": "display_data"
    }
   ],
   "source": [
    "plt.figure(figsize=[16,6])\n",
    "i = 0\n",
    "for award in set(df_awards_past.title):\n",
    "    i += 1\n",
    "    year = df_awards_past[df_awards_past['title']==award].year\n",
    "    recips = df_awards_past[df_awards_past['title']==award].num_recipients\n",
    "    index = year>2019-25\n",
    "    years_filtered = year[index].values\n",
    "    recips_filtered = recips[index].values\n",
    "    plt.subplot(2,3,i)\n",
    "    plt.bar(years_filtered,recips_filtered, color='b', alpha = 0.7)\n",
    "    plt.title(award)\n",
    "    plt.xlabel('Year')\n",
    "    plt.ylabel('Number of Recipients')\n",
    "    plt.ylim(0, 3)\n",
    "plt.tight_layout()"
   ]
  },
  {
   "cell_type": "code",
   "execution_count": 64,
   "metadata": {},
   "outputs": [
    {
     "data": {
      "text/plain": [
       "title\n",
       "The Nobel Prize in Literature                                                 0.974359\n",
       "The Nobel Peace Prize                                                         1.119658\n",
       "The Nobel Prize in Chemistry                                                  1.521368\n",
       "The Sveriges Riksbank Prize in Economic Sciences in Memory of Alfred Nobel    1.612245\n",
       "The Nobel Prize in Physics                                                    1.769231\n",
       "The Nobel Prize in Physiology or Medicine                                     1.829060\n",
       "Name: num_recipients, dtype: float64"
      ]
     },
     "execution_count": 64,
     "metadata": {},
     "output_type": "execute_result"
    }
   ],
   "source": [
    "# avg. number of recipients by prize\n",
    "df_awards_past.groupby('title')['num_recipients'].mean().sort_values()"
   ]
  },
  {
   "cell_type": "code",
   "execution_count": 65,
   "metadata": {},
   "outputs": [
    {
     "data": {
      "text/plain": [
       "title\n",
       "The Nobel Prize in Literature                                                 1.036364\n",
       "The Nobel Peace Prize                                                         1.336735\n",
       "The Sveriges Riksbank Prize in Economic Sciences in Memory of Alfred Nobel    1.612245\n",
       "The Nobel Prize in Chemistry                                                  1.633028\n",
       "The Nobel Prize in Physics                                                    1.864865\n",
       "The Nobel Prize in Physiology or Medicine                                     1.981481\n",
       "Name: num_recipients, dtype: float64"
      ]
     },
     "execution_count": 65,
     "metadata": {},
     "output_type": "execute_result"
    }
   ],
   "source": [
    "# avg. number of recipients by prize, if the prize was acturally awarded that year\n",
    "df_awards_actually_offered.groupby('title')['num_recipients'].mean().sort_values()"
   ]
  },
  {
   "cell_type": "markdown",
   "metadata": {},
   "source": [
    "----------------\n",
    "### End of Standard Section\n",
    "---------------"
   ]
  },
  {
   "cell_type": "markdown",
   "metadata": {},
   "source": [
    "## Extra: Did anyone recieve the Nobel Prize more than once (based upon scraped data)?"
   ]
  },
  {
   "cell_type": "code",
   "execution_count": 66,
   "metadata": {},
   "outputs": [
    {
     "data": {
      "text/html": [
       "<div>\n",
       "<style scoped>\n",
       "    .dataframe tbody tr th:only-of-type {\n",
       "        vertical-align: middle;\n",
       "    }\n",
       "\n",
       "    .dataframe tbody tr th {\n",
       "        vertical-align: top;\n",
       "    }\n",
       "\n",
       "    .dataframe thead th {\n",
       "        text-align: right;\n",
       "    }\n",
       "</style>\n",
       "<table border=\"1\" class=\"dataframe\">\n",
       "  <thead>\n",
       "    <tr style=\"text-align: right;\">\n",
       "      <th></th>\n",
       "      <th>motivation</th>\n",
       "      <th>num_recipients</th>\n",
       "      <th>recipients</th>\n",
       "      <th>title</th>\n",
       "      <th>year</th>\n",
       "    </tr>\n",
       "  </thead>\n",
       "  <tbody>\n",
       "    <tr>\n",
       "      <th>6</th>\n",
       "      <td>“for decisive contributions to the LIGO detect...</td>\n",
       "      <td>3</td>\n",
       "      <td>[Rainer Weiss, Barry C. Barish, Kip S. Thorne]</td>\n",
       "      <td>The Nobel Prize in Physics</td>\n",
       "      <td>2017</td>\n",
       "    </tr>\n",
       "    <tr>\n",
       "      <th>7</th>\n",
       "      <td>“for developing cryo-electron microscopy for t...</td>\n",
       "      <td>3</td>\n",
       "      <td>[Jacques Dubochet, Joachim Frank, Richard Hend...</td>\n",
       "      <td>The Nobel Prize in Chemistry</td>\n",
       "      <td>2017</td>\n",
       "    </tr>\n",
       "    <tr>\n",
       "      <th>8</th>\n",
       "      <td>“for their discoveries of molecular mechanisms...</td>\n",
       "      <td>3</td>\n",
       "      <td>[Jeffrey C. Hall, Michael Rosbash, Michael W. ...</td>\n",
       "      <td>The Nobel Prize in Physiology or Medicine</td>\n",
       "      <td>2017</td>\n",
       "    </tr>\n",
       "    <tr>\n",
       "      <th>9</th>\n",
       "      <td>“who, in novels of great emotional force, has ...</td>\n",
       "      <td>1</td>\n",
       "      <td>[Kazuo Ishiguro]</td>\n",
       "      <td>The Nobel Prize in Literature</td>\n",
       "      <td>2017</td>\n",
       "    </tr>\n",
       "    <tr>\n",
       "      <th>10</th>\n",
       "      <td>“for its work to draw attention to the catastr...</td>\n",
       "      <td>1</td>\n",
       "      <td>[International Campaign to Abolish Nuclear Wea...</td>\n",
       "      <td>The Nobel Peace Prize</td>\n",
       "      <td>2017</td>\n",
       "    </tr>\n",
       "  </tbody>\n",
       "</table>\n",
       "</div>"
      ],
      "text/plain": [
       "                                           motivation  num_recipients  \\\n",
       "6   “for decisive contributions to the LIGO detect...               3   \n",
       "7   “for developing cryo-electron microscopy for t...               3   \n",
       "8   “for their discoveries of molecular mechanisms...               3   \n",
       "9   “who, in novels of great emotional force, has ...               1   \n",
       "10  “for its work to draw attention to the catastr...               1   \n",
       "\n",
       "                                           recipients  \\\n",
       "6      [Rainer Weiss, Barry C. Barish, Kip S. Thorne]   \n",
       "7   [Jacques Dubochet, Joachim Frank, Richard Hend...   \n",
       "8   [Jeffrey C. Hall, Michael Rosbash, Michael W. ...   \n",
       "9                                    [Kazuo Ishiguro]   \n",
       "10  [International Campaign to Abolish Nuclear Wea...   \n",
       "\n",
       "                                        title  year  \n",
       "6                  The Nobel Prize in Physics  2017  \n",
       "7                The Nobel Prize in Chemistry  2017  \n",
       "8   The Nobel Prize in Physiology or Medicine  2017  \n",
       "9               The Nobel Prize in Literature  2017  \n",
       "10                      The Nobel Peace Prize  2017  "
      ]
     },
     "execution_count": 66,
     "metadata": {},
     "output_type": "execute_result"
    }
   ],
   "source": [
    "df_awards_actually_offered.head()"
   ]
  },
  {
   "cell_type": "code",
   "execution_count": 67,
   "metadata": {},
   "outputs": [
    {
     "data": {
      "text/plain": [
       "Office of the United Nations High Commissioner for Refugees (UNHCR)                   2\n",
       "Frederick Sanger                                                                      2\n",
       "John Bardeen                                                                          2\n",
       "Comité international de la Croix Rouge (International Committee of the Red Cross)     3\n",
       "Linus Carl Pauling                                                                    2\n",
       "Marie Curie, née Sklodowska                                                           2\n",
       "dtype: int64"
      ]
     },
     "execution_count": 67,
     "metadata": {},
     "output_type": "execute_result"
    }
   ],
   "source": [
    "more_than_once = {}\n",
    "for recipients in df_awards_actually_offered.recipients:\n",
    "    for rcpt in recipients:\n",
    "        if rcpt in more_than_once:\n",
    "            more_than_once[rcpt] += 1\n",
    "        else:\n",
    "            more_than_once[rcpt] = 1\n",
    "more_than_once = pd.Series(more_than_once)\n",
    "more_than_once[more_than_once > 1]"
   ]
  },
  {
   "cell_type": "code",
   "execution_count": 96,
   "metadata": {},
   "outputs": [
    {
     "data": {
      "text/plain": [
       "Comité international de la Croix Rouge (International Committee of the Red Cross)     3\n",
       "Frederick Sanger                                                                      2\n",
       "Linus Carl Pauling                                                                    2\n",
       "John Bardeen                                                                          2\n",
       "Office of the United Nations High Commissioner for Refugees (UNHCR)                   2\n",
       "Marie Curie, née Sklodowska                                                           2\n",
       "Name: recipient, dtype: int64"
      ]
     },
     "execution_count": 96,
     "metadata": {},
     "output_type": "execute_result"
    }
   ],
   "source": [
    "# did anyone win more than once?\n",
    "laurates = []\n",
    "for idx, row in df_awards_actually_offered.iterrows():\n",
    "    for rcpnt in row['recipients']:\n",
    "        laurates.append(dict(\n",
    "            recipient=rcpnt,\n",
    "            year=row['year'],\n",
    "            field=row['title']))\n",
    "df_laurates = pd.DataFrame(laurates)\n",
    "# df_laurates.head()\n",
    "\n",
    "laurates_count = df_laurates['recipient'].value_counts()\n",
    "laurates_count[laurates_count > 1]"
   ]
  },
  {
   "cell_type": "markdown",
   "metadata": {},
   "source": [
    "Here's where it bites us that our original DataFrame isn't \"tidy\". Let's make a tidy one."
   ]
  },
  {
   "cell_type": "code",
   "execution_count": 97,
   "metadata": {},
   "outputs": [
    {
     "name": "stdout",
     "output_type": "stream",
     "text": [
      "<class 'pandas.core.frame.DataFrame'>\n",
      "RangeIndex: 923 entries, 0 to 922\n",
      "Data columns (total 2 columns):\n",
      "recipient    923 non-null object\n",
      "year         923 non-null int64\n",
      "dtypes: int64(1), object(1)\n",
      "memory usage: 14.5+ KB\n"
     ]
    }
   ],
   "source": [
    "tidy_awards = []\n",
    "for idx, row in df_awards_past.iterrows():\n",
    "    for recipient in row['recipients']:\n",
    "        tidy_awards.append(dict(\n",
    "            recipient=recipient,\n",
    "            year=row['year']))\n",
    "tidy_awards_df = pd.DataFrame(tidy_awards) # df from a list of dictionaires\n",
    "tidy_awards_df.info()"
   ]
  },
  {
   "cell_type": "code",
   "execution_count": 98,
   "metadata": {},
   "outputs": [
    {
     "data": {
      "text/html": [
       "<div>\n",
       "<style scoped>\n",
       "    .dataframe tbody tr th:only-of-type {\n",
       "        vertical-align: middle;\n",
       "    }\n",
       "\n",
       "    .dataframe tbody tr th {\n",
       "        vertical-align: top;\n",
       "    }\n",
       "\n",
       "    .dataframe thead th {\n",
       "        text-align: right;\n",
       "    }\n",
       "</style>\n",
       "<table border=\"1\" class=\"dataframe\">\n",
       "  <thead>\n",
       "    <tr style=\"text-align: right;\">\n",
       "      <th></th>\n",
       "      <th>recipient</th>\n",
       "      <th>year</th>\n",
       "    </tr>\n",
       "  </thead>\n",
       "  <tbody>\n",
       "    <tr>\n",
       "      <th>0</th>\n",
       "      <td>Rainer Weiss</td>\n",
       "      <td>2017</td>\n",
       "    </tr>\n",
       "    <tr>\n",
       "      <th>1</th>\n",
       "      <td>Barry C. Barish</td>\n",
       "      <td>2017</td>\n",
       "    </tr>\n",
       "    <tr>\n",
       "      <th>2</th>\n",
       "      <td>Kip S. Thorne</td>\n",
       "      <td>2017</td>\n",
       "    </tr>\n",
       "    <tr>\n",
       "      <th>3</th>\n",
       "      <td>Jacques Dubochet</td>\n",
       "      <td>2017</td>\n",
       "    </tr>\n",
       "    <tr>\n",
       "      <th>4</th>\n",
       "      <td>Joachim Frank</td>\n",
       "      <td>2017</td>\n",
       "    </tr>\n",
       "  </tbody>\n",
       "</table>\n",
       "</div>"
      ],
      "text/plain": [
       "          recipient  year\n",
       "0      Rainer Weiss  2017\n",
       "1   Barry C. Barish  2017\n",
       "2     Kip S. Thorne  2017\n",
       "3  Jacques Dubochet  2017\n",
       "4     Joachim Frank  2017"
      ]
     },
     "execution_count": 98,
     "metadata": {},
     "output_type": "execute_result"
    }
   ],
   "source": [
    "tidy_awards_df.head()"
   ]
  },
  {
   "cell_type": "code",
   "execution_count": 81,
   "metadata": {},
   "outputs": [
    {
     "data": {
      "text/plain": [
       "[{'recipient': 'Rainer Weiss', 'year': 2017},\n",
       " {'recipient': 'Barry C. Barish', 'year': 2017},\n",
       " {'recipient': 'Kip S. Thorne', 'year': 2017},\n",
       " {'recipient': 'Jacques Dubochet', 'year': 2017},\n",
       " {'recipient': 'Joachim Frank', 'year': 2017}]"
      ]
     },
     "execution_count": 81,
     "metadata": {},
     "output_type": "execute_result"
    }
   ],
   "source": [
    "tidy_awards[:5]"
   ]
  },
  {
   "cell_type": "markdown",
   "metadata": {},
   "source": [
    "Now we can look at each recipient individually."
   ]
  },
  {
   "cell_type": "code",
   "execution_count": 99,
   "metadata": {
    "collapsed": true,
    "jupyter": {
     "outputs_hidden": true
    }
   },
   "outputs": [
    {
     "data": {
      "text/plain": [
       "Comité international de la Croix Rouge (International Committee of the Red Cross)     3\n",
       "Frederick Sanger                                                                      2\n",
       "Linus Carl Pauling                                                                    2\n",
       "John Bardeen                                                                          2\n",
       "Office of the United Nations High Commissioner for Refugees (UNHCR)                   2\n",
       "Marie Curie, née Sklodowska                                                           2\n",
       "Sydney Brenner                                                                        1\n",
       "Robert C. Richardson                                                                  1\n",
       "Daniel Bovet                                                                          1\n",
       "Eugenio Montale                                                                       1\n",
       "Salvatore Quasimodo                                                                   1\n",
       "Otto Stern                                                                            1\n",
       "James Chadwick                                                                        1\n",
       "Camilo José Cela                                                                      1\n",
       "Eric Betzig                                                                           1\n",
       "Barry J. Marshall                                                                     1\n",
       "Wangari Muta Maathai                                                                  1\n",
       "John Robert Schrieffer                                                                1\n",
       "Aaron Ciechanover                                                                     1\n",
       "Joseph E. Stiglitz                                                                    1\n",
       "Clive W.J. Granger                                                                    1\n",
       "Melvin Schwartz                                                                       1\n",
       "Alan G. MacDiarmid                                                                    1\n",
       "Sir James W. Black                                                                    1\n",
       "Joseph H. Taylor Jr.                                                                  1\n",
       "Paul D. Boyer                                                                         1\n",
       "Rabindranath Tagore                                                                   1\n",
       "William N. Lipscomb                                                                   1\n",
       "Victor Franz Hess                                                                     1\n",
       "David Trimble                                                                         1\n",
       "                                                                                     ..\n",
       "Paul Berg                                                                             1\n",
       "Eduard Buchner                                                                        1\n",
       "Kim Dae-jung                                                                          1\n",
       "Werner Arber                                                                          1\n",
       "Friedrich Bergius                                                                     1\n",
       "Adam G. Riess                                                                         1\n",
       "Karl Hjalmar Branting                                                                 1\n",
       "Lord (Alexander R.) Todd                                                              1\n",
       "Harold Clayton Urey                                                                   1\n",
       "Richard R. Schrock                                                                    1\n",
       "Edward B. Lewis                                                                       1\n",
       "Roderick MacKinnon                                                                    1\n",
       "Stanford Moore                                                                        1\n",
       "Heinrich Böll                                                                         1\n",
       "Subramanyan Chandrasekhar                                                             1\n",
       "Charles Jules Henri Nicolle                                                           1\n",
       "Walter Houser Brattain                                                                1\n",
       "Antony Hewish                                                                         1\n",
       "International Physicians for the Prevention of Nuclear War                            1\n",
       "Tawakkol Karman                                                                       1\n",
       "Alfred D. Hershey                                                                     1\n",
       "Norman E. Borlaug                                                                     1\n",
       "Andre Geim                                                                            1\n",
       "Edwin G. Krebs                                                                        1\n",
       "Robert Bruce Merrifield                                                               1\n",
       "Joseph L. Goldstein                                                                   1\n",
       "Alan J. Heeger                                                                        1\n",
       "Emil Theodor Kocher                                                                   1\n",
       "Roger Y. Tsien                                                                        1\n",
       "Angus Deaton                                                                          1\n",
       "Name: recipient, Length: 916, dtype: int64"
      ]
     },
     "execution_count": 99,
     "metadata": {},
     "output_type": "execute_result"
    }
   ],
   "source": [
    "tidy_awards_df.recipient.value_counts()"
   ]
  },
  {
   "cell_type": "code",
   "execution_count": 100,
   "metadata": {},
   "outputs": [
    {
     "data": {
      "text/plain": [
       "Comité international de la Croix Rouge (International Committee of the Red Cross)     3\n",
       "Frederick Sanger                                                                      2\n",
       "Linus Carl Pauling                                                                    2\n",
       "John Bardeen                                                                          2\n",
       "Office of the United Nations High Commissioner for Refugees (UNHCR)                   2\n",
       "Marie Curie, née Sklodowska                                                           2\n",
       "Name: recipient, dtype: int64"
      ]
     },
     "execution_count": 100,
     "metadata": {},
     "output_type": "execute_result"
    }
   ],
   "source": [
    "tidy_awards_df.recipient.value_counts()[tidy_awards_df.recipient.value_counts() > 1]"
   ]
  },
  {
   "cell_type": "markdown",
   "metadata": {},
   "source": [
    "## Extra: Other structured data formats: JSON and CSV"
   ]
  },
  {
   "cell_type": "markdown",
   "metadata": {},
   "source": [
    "### CSV\n",
    "CSV is a lowest-common-denominator format for tabular data."
   ]
  },
  {
   "cell_type": "code",
   "execution_count": 107,
   "metadata": {},
   "outputs": [
    {
     "name": "stdout",
     "output_type": "stream",
     "text": [
      "motivation,num_recipients,recipients,title,year\n",
      "“for decisive contributions to the LIGO detector and\n"
     ]
    }
   ],
   "source": [
    "df_awards_past.to_csv('../data/awards.csv', index=False, encoding='utf-8')\n",
    "with open('../data/awards.csv', 'r', encoding='utf-8') as f:\n",
    "    print(f.read()[:100])"
   ]
  },
  {
   "cell_type": "markdown",
   "metadata": {},
   "source": [
    "It loses some info, though: the recipients list became a plain string, and the reader needs to guess whether each column is numeric or not."
   ]
  },
  {
   "cell_type": "code",
   "execution_count": 75,
   "metadata": {},
   "outputs": [
    {
     "data": {
      "text/plain": [
       "\"['John O’Keefe', 'May-Britt Moser', 'Edvard I. Moser']\""
      ]
     },
     "execution_count": 75,
     "metadata": {},
     "output_type": "execute_result"
    }
   ],
   "source": [
    "pd.read_csv('../data/awards.csv').recipients.iloc[20]"
   ]
  },
  {
   "cell_type": "markdown",
   "metadata": {},
   "source": [
    "### JSON"
   ]
  },
  {
   "cell_type": "markdown",
   "metadata": {},
   "source": [
    "JSON preserves structured data, but fewer data-science tools speak it."
   ]
  },
  {
   "cell_type": "code",
   "execution_count": 76,
   "metadata": {},
   "outputs": [
    {
     "name": "stdout",
     "output_type": "stream",
     "text": [
      "[{\"title\":\"The Nobel Prize in Physics\",\"year\":2017,\"recipients\":[\"Rainer Weiss\",\"Barry C. Barish\",\"Kip S. Thorne\"],\"num_recipients\":3,\"motivation\":\"\\u201cfor decisive contributions to the LIGO detector and the observation of gravitational waves\\u201d\"},{\"title\":\"The Nobel Prize in Chemistry\",\"year\":2017,\"recipients\":[\"Jacques Dubochet\",\"Joachim Frank\",\"Richard Henderson\"],\"num_recipients\":3,\"motivation\":\"\\u201cfor developing cryo-electron microscopy for the high-resolution structure determination of biomolecules in solution\\u201d\"},{\"title\":\"The Nobel Prize in Physiology or Medicine\",\"year\":2017,\"recipients\":[\"Jeffrey C. Hall\",\"Michael Rosbash\",\"Michael W. Young\"],\"num_recipients\":3,\"motivation\":\"\\u201cfor their discoveries of molecular mechanisms controlling the circadian rhythm\\u201d\"},{\"title\":\"The Nobel Prize in Literature\",\"year\":2017,\"recipients\":[\"Kazuo Ishiguro\"],\"num_recipients\":1,\"motivation\":\"\\u201cwho, in novels of great emotional force, has uncovered the abyss beneath our \n"
     ]
    }
   ],
   "source": [
    "# df_awards_past.to_json('../data/awards.json', orient='records')\n",
    "\n",
    "with open('../data/awards.json', 'r') as f:\n",
    "    print(f.read()[:1000])"
   ]
  },
  {
   "cell_type": "markdown",
   "metadata": {},
   "source": [
    "Lists and other basic data types are preserved. (Custom data types aren't preserved, but you'll get an error when saving.)"
   ]
  },
  {
   "cell_type": "code",
   "execution_count": 77,
   "metadata": {},
   "outputs": [
    {
     "data": {
      "text/plain": [
       "['John O’Keefe', 'May-Britt Moser', 'Edvard I. Moser']"
      ]
     },
     "execution_count": 77,
     "metadata": {},
     "output_type": "execute_result"
    }
   ],
   "source": [
    "pd.read_json('../data/awards.json').recipients.iloc[20]"
   ]
  },
  {
   "cell_type": "markdown",
   "metadata": {},
   "source": [
    "## Extra: Pickle: handy for storing data\n",
    "For temporary data storage in a single version of Python, `pickle`s will preserve your data even more faithfully, even many custom data types. But don't count on it for exchanging data or long-term storage. (In fact, don't try to load untrusted `pickle`s -- they can run arbitrary code!)"
   ]
  },
  {
   "cell_type": "code",
   "execution_count": 78,
   "metadata": {},
   "outputs": [
    {
     "name": "stdout",
     "output_type": "stream",
     "text": [
      "\u0004.\u0000\u0001\u0000\u0000\u0000\u0000\u0000\u0011pandas.core.frame\tDataFrame)}(\u0005_data\u001e",
      "pandas.core.internals.managers\f",
      "BlockManager)(](\u0018pandas.core.indexes.base\n",
      "_new_Indexh\u000b",
      "\u0005Index}(\u0004data\u0015numpy.core.multiar\n"
     ]
    }
   ],
   "source": [
    "# df_awards_past.to_pickle('../data/awards.pkl')\n",
    "with open('../data/awards.pkl', 'r', encoding='latin1') as f:\n",
    "    print(f.read()[:200])"
   ]
  },
  {
   "cell_type": "markdown",
   "metadata": {},
   "source": [
    "Yup, lots of internal Python and Pandas stuff..."
   ]
  },
  {
   "cell_type": "code",
   "execution_count": 79,
   "metadata": {},
   "outputs": [
    {
     "data": {
      "text/plain": [
       "['John O’Keefe', 'May-Britt Moser', 'Edvard I. Moser']"
      ]
     },
     "execution_count": 79,
     "metadata": {},
     "output_type": "execute_result"
    }
   ],
   "source": [
    "pd.read_pickle('../data/awards.pkl').recipients.iloc[20]"
   ]
  },
  {
   "cell_type": "markdown",
   "metadata": {},
   "source": [
    "## Extra: Formatted data output"
   ]
  },
  {
   "cell_type": "markdown",
   "metadata": {},
   "source": [
    "Let's make a textual table of Physics laureates by year, earliest first:"
   ]
  },
  {
   "cell_type": "code",
   "execution_count": 80,
   "metadata": {
    "collapsed": true,
    "jupyter": {
     "outputs_hidden": true
    }
   },
   "outputs": [
    {
     "name": "stdout",
     "output_type": "stream",
     "text": [
      "1901: Wilhelm Conrad Röntgen\n",
      "1902: Hendrik Antoon Lorentz, Pieter Zeeman\n",
      "1903: Antoine Henri Becquerel, Pierre Curie, Marie Curie, née Sklodowska\n",
      "1904: Lord Rayleigh (John William Strutt)\n",
      "1905: Philipp Eduard Anton von Lenard\n",
      "1906: Joseph John Thomson\n",
      "1907: Albert Abraham Michelson\n",
      "1908: Gabriel Lippmann\n",
      "1909: Guglielmo Marconi, Karl Ferdinand Braun\n",
      "1910: Johannes Diderik van der Waals\n",
      "1911: Wilhelm Wien\n",
      "1912: Nils Gustaf Dalén\n",
      "1913: Heike Kamerlingh Onnes\n",
      "1914: Max von Laue\n",
      "1915: Sir William Henry Bragg, William Lawrence Bragg\n",
      "1916: \n",
      "1917: Charles Glover Barkla\n",
      "1918: Max Karl Ernst Ludwig Planck\n",
      "1919: Johannes Stark\n",
      "1920: Charles Edouard Guillaume\n",
      "1921: Albert Einstein\n",
      "1922: Niels Henrik David Bohr\n",
      "1923: Robert Andrews Millikan\n",
      "1924: Karl Manne Georg Siegbahn\n",
      "1925: James Franck, Gustav Ludwig Hertz\n",
      "1926: Jean Baptiste Perrin\n",
      "1927: Arthur Holly Compton, Charles Thomson Rees Wilson\n",
      "1928: Owen Willans Richardson\n",
      "1929: Prince Louis-Victor Pierre Raymond de Broglie\n",
      "1930: Sir Chandrasekhara Venkata Raman\n",
      "1931: \n",
      "1932: Werner Karl Heisenberg\n",
      "1933: Erwin Schrödinger, Paul Adrien Maurice Dirac\n",
      "1934: \n",
      "1935: James Chadwick\n",
      "1936: Victor Franz Hess, Carl David Anderson\n",
      "1937: Clinton Joseph Davisson, George Paget Thomson\n",
      "1938: Enrico Fermi\n",
      "1939: Ernest Orlando Lawrence\n",
      "1940: \n",
      "1941: \n",
      "1942: \n",
      "1943: Otto Stern\n",
      "1944: Isidor Isaac Rabi\n",
      "1945: Wolfgang Pauli\n",
      "1946: Percy Williams Bridgman\n",
      "1947: Sir Edward Victor Appleton\n",
      "1948: Patrick Maynard Stuart Blackett\n",
      "1949: Hideki Yukawa\n",
      "1950: Cecil Frank Powell\n",
      "1951: Sir John Douglas Cockcroft, Ernest Thomas Sinton Walton\n",
      "1952: Felix Bloch, Edward Mills Purcell\n",
      "1953: Frits Zernike\n",
      "1954: Max Born, Walther Bothe\n",
      "1955: Willis Eugene Lamb, Polykarp Kusch\n",
      "1956: William Bradford Shockley, John Bardeen, Walter Houser Brattain\n",
      "1957: Chen Ning Yang, Tsung-Dao (T.D.) Lee\n",
      "1958: Pavel Alekseyevich Cherenkov, Il´ja Mikhailovich Frank, Igor Yevgenyevich Tamm\n",
      "1959: Emilio Gino Segrè, Owen Chamberlain\n",
      "1960: Donald Arthur Glaser\n",
      "1961: Robert Hofstadter, Rudolf Ludwig Mössbauer\n",
      "1962: Lev Davidovich Landau\n",
      "1963: Eugene Paul Wigner, Maria Goeppert Mayer, J. Hans D. Jensen\n",
      "1964: Charles Hard Townes, Nicolay Gennadiyevich Basov, Aleksandr Mikhailovich Prokhorov\n",
      "1965: Sin-Itiro Tomonaga, Julian Schwinger, Richard P. Feynman\n",
      "1966: Alfred Kastler\n",
      "1967: Hans Albrecht Bethe\n",
      "1968: Luis Walter Alvarez\n",
      "1969: Murray Gell-Mann\n",
      "1970: Hannes Olof Gösta Alfvén, Louis Eugène Félix Néel\n",
      "1971: Dennis Gabor\n",
      "1972: John Bardeen, Leon Neil Cooper, John Robert Schrieffer\n",
      "1973: Leo Esaki, Ivar Giaever, Brian David Josephson\n",
      "1974: Sir Martin Ryle, Antony Hewish\n",
      "1975: Aage Niels Bohr, Ben Roy Mottelson, Leo James Rainwater\n",
      "1976: Burton Richter, Samuel Chao Chung Ting\n",
      "1977: Philip Warren Anderson, Sir Nevill Francis Mott, John Hasbrouck van Vleck\n",
      "1978: Pyotr Leonidovich Kapitsa, Arno Allan Penzias, Robert Woodrow Wilson\n",
      "1979: Sheldon Lee Glashow, Abdus Salam, Steven Weinberg\n",
      "1980: James Watson Cronin, Val Logsdon Fitch\n",
      "1981: Nicolaas Bloembergen, Arthur Leonard Schawlow, Kai M. Siegbahn\n",
      "1982: Kenneth G. Wilson\n",
      "1983: Subramanyan Chandrasekhar, William Alfred Fowler\n",
      "1984: Carlo Rubbia, Simon van der Meer\n",
      "1985: Klaus von Klitzing\n",
      "1986: Ernst Ruska, Gerd Binnig, Heinrich Rohrer\n",
      "1987: J. Georg Bednorz, K. Alexander Müller\n",
      "1988: Leon M. Lederman, Melvin Schwartz, Jack Steinberger\n",
      "1989: Norman F. Ramsey, Hans G. Dehmelt, Wolfgang Paul\n",
      "1990: Jerome I. Friedman, Henry W. Kendall, Richard E. Taylor\n",
      "1991: Pierre-Gilles de Gennes\n",
      "1992: Georges Charpak\n",
      "1993: Russell A. Hulse, Joseph H. Taylor Jr.\n",
      "1994: Bertram N. Brockhouse, Clifford G. Shull\n",
      "1995: Martin L. Perl, Frederick Reines\n",
      "1996: David M. Lee, Douglas D. Osheroff, Robert C. Richardson\n",
      "1997: Steven Chu, Claude Cohen-Tannoudji, William D. Phillips\n",
      "1998: Robert B. Laughlin, Horst L. Störmer, Daniel C. Tsui\n",
      "1999: Gerardus ‘t Hooft, Martinus J.G. Veltman\n",
      "2000: Zhores I. Alferov, Herbert Kroemer, Jack S. Kilby\n",
      "2001: Eric A. Cornell, Wolfgang Ketterle, Carl E. Wieman\n",
      "2002: Raymond Davis Jr., Masatoshi Koshiba, Riccardo Giacconi\n",
      "2003: Alexei A. Abrikosov, Vitaly L. Ginzburg, Anthony J. Leggett\n",
      "2004: David J. Gross, H. David Politzer, Frank Wilczek\n",
      "2005: Roy J. Glauber, John L. Hall, Theodor W. Hänsch\n",
      "2006: John C. Mather, George F. Smoot\n",
      "2007: Albert Fert, Peter Grünberg\n",
      "2008: Yoichiro Nambu, Makoto Kobayashi, Toshihide Maskawa\n",
      "2009: Charles Kuen Kao, Willard S. Boyle, George E. Smith\n",
      "2010: Andre Geim, Konstantin Novoselov\n",
      "2011: Saul Perlmutter, Brian P. Schmidt, Adam G. Riess\n",
      "2012: Serge Haroche, David J. Wineland\n",
      "2013: François Englert, Peter W. Higgs\n",
      "2014: Isamu Akasaki, Hiroshi Amano, Shuji Nakamura\n",
      "2015: Takaaki Kajita, Arthur B. McDonald\n",
      "2016: David J. Thouless, F. Duncan M. Haldane, J. Michael Kosterlitz\n",
      "2017: Rainer Weiss, Barry C. Barish, Kip S. Thorne\n"
     ]
    }
   ],
   "source": [
    "for idx, row in df_awards_past.sort_values('year').iterrows():\n",
    "    if 'Physics' in row['title']:\n",
    "        print('{}: {}'.format(\n",
    "            row['year'],\n",
    "            ', '.join(row['recipients'])))\n"
   ]
  },
  {
   "cell_type": "markdown",
   "metadata": {},
   "source": [
    "## Extra: Parsing JSON to get the Wayback Machine URL"
   ]
  },
  {
   "cell_type": "markdown",
   "metadata": {},
   "source": [
    "We could go to http://archive.org, search for our URL, and get the URL for the archived version there. But since you'll often need to talk with APIs, let's take this opportunity to use the Wayback Machine's [API](https://archive.org/help/wayback_api.php). This will also give us a chance to practice working with JSON."
   ]
  },
  {
   "cell_type": "code",
   "execution_count": null,
   "metadata": {
    "collapsed": true,
    "jupyter": {
     "outputs_hidden": true
    }
   },
   "outputs": [],
   "source": [
    "url = \"https://www.nobelprize.org/prizes/lists/all-nobel-prizes/\"\n",
    "# All 3 of these do the same thing. The third is my (KCA's) favorite new feature of Python 3.6.\n",
    "wayback_query_url = 'http://archive.org/wayback/available?url={}'.format(url)\n",
    "wayback_query_url = 'http://archive.org/wayback/available?url={url}'.format(url=url)\n",
    "wayback_query_url = f'http://archive.org/wayback/available?url={url}'\n",
    "r = requests.get(wayback_query_url)"
   ]
  },
  {
   "cell_type": "markdown",
   "metadata": {},
   "source": [
    "We got some kind of response... what is it?"
   ]
  },
  {
   "cell_type": "code",
   "execution_count": null,
   "metadata": {
    "collapsed": true,
    "jupyter": {
     "outputs_hidden": true
    }
   },
   "outputs": [],
   "source": [
    "r.text"
   ]
  },
  {
   "cell_type": "markdown",
   "metadata": {},
   "source": [
    "Yay, [JSON](https://en.wikipedia.org/wiki/JSON)! It's usually pretty easy to work with JSON, once we parse it."
   ]
  },
  {
   "cell_type": "code",
   "execution_count": null,
   "metadata": {
    "collapsed": true,
    "jupyter": {
     "outputs_hidden": true
    }
   },
   "outputs": [],
   "source": [
    "json.loads(r.text)"
   ]
  },
  {
   "cell_type": "markdown",
   "metadata": {},
   "source": [
    "Loading responses as JSON is so common that `requests` has a convenience method for it:"
   ]
  },
  {
   "cell_type": "code",
   "execution_count": null,
   "metadata": {
    "collapsed": true,
    "jupyter": {
     "outputs_hidden": true
    }
   },
   "outputs": [],
   "source": [
    "response_json = r.json()\n",
    "response_json"
   ]
  },
  {
   "cell_type": "markdown",
   "metadata": {},
   "source": [
    "**What kind of object is this?**\n",
    "\n",
    "A little Python syntax review: **How can we get the snapshot URL?**"
   ]
  },
  {
   "cell_type": "code",
   "execution_count": null,
   "metadata": {
    "collapsed": true,
    "jupyter": {
     "outputs_hidden": true
    }
   },
   "outputs": [],
   "source": [
    "snapshot_url = response_json['archived_snapshots']['closest']['url']\n",
    "snapshot_url"
   ]
  },
  {
   "cell_type": "code",
   "execution_count": null,
   "metadata": {
    "collapsed": true,
    "jupyter": {
     "outputs_hidden": true
    }
   },
   "outputs": [],
   "source": []
  }
 ],
 "metadata": {
  "kernelspec": {
   "display_name": "Python 3",
   "language": "python",
   "name": "python3"
  },
  "language_info": {
   "codemirror_mode": {
    "name": "ipython",
    "version": 3
   },
   "file_extension": ".py",
   "mimetype": "text/x-python",
   "name": "python",
   "nbconvert_exporter": "python",
   "pygments_lexer": "ipython3",
   "version": "3.7.9"
  },
  "varInspector": {
   "cols": {
    "lenName": 16,
    "lenType": 16,
    "lenVar": 40
   },
   "kernels_config": {
    "python": {
     "delete_cmd_postfix": "",
     "delete_cmd_prefix": "del ",
     "library": "var_list.py",
     "varRefreshCmd": "print(var_dic_list())"
    },
    "r": {
     "delete_cmd_postfix": ") ",
     "delete_cmd_prefix": "rm(",
     "library": "var_list.r",
     "varRefreshCmd": "cat(var_dic_list()) "
    }
   },
   "types_to_exclude": [
    "module",
    "function",
    "builtin_function_or_method",
    "instance",
    "_Feature"
   ],
   "window_display": false
  }
 },
 "nbformat": 4,
 "nbformat_minor": 4
}
